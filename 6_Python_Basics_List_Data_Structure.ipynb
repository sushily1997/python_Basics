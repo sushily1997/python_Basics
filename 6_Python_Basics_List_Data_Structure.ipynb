{
  "nbformat": 4,
  "nbformat_minor": 0,
  "metadata": {
    "colab": {
      "name": "6_Python_Basics_List_Data_Structure.ipynb",
      "provenance": [],
      "include_colab_link": true
    },
    "kernelspec": {
      "name": "python3",
      "display_name": "Python 3"
    },
    "language_info": {
      "name": "python"
    }
  },
  "cells": [
    {
      "cell_type": "markdown",
      "metadata": {
        "id": "view-in-github",
        "colab_type": "text"
      },
      "source": [
        "<a href=\"https://colab.research.google.com/github/sushily1997/python_Basics/blob/main/6_Python_Basics_List_Data_Structure.ipynb\" target=\"_parent\"><img src=\"https://colab.research.google.com/assets/colab-badge.svg\" alt=\"Open In Colab\"/></a>"
      ]
    },
    {
      "cell_type": "markdown",
      "source": [
        "# List"
      ],
      "metadata": {
        "id": "SwNgWq8nqtrw"
      }
    },
    {
      "cell_type": "markdown",
      "source": [
        "֍ If we want to represent a group of individual objects as a single entity where insertion order needs to be preserved and duplicates are allowed, then we should go for List.\n",
        "\n",
        "֍ heterogeneous objects are allowed.\n",
        "\n",
        "֍ List is dynamic because based on our requirement we can increase the size and\n",
        "decrease the size.\n",
        "\n",
        "֍ In List the elements will be placed within square brackets and with comma seperator.\n",
        "\n",
        "֍ We can differentiate duplicate elements by using index and we can preserve insertion order by using index. Hence index will play very important role.\n",
        "\n",
        "֍ Python supports both positive and negative indexes. +ve index means from left to right where as negative index means right to left.\n",
        "\n",
        "֍ Listobjectsaremutable.i.ewecanchangethecontent."
      ],
      "metadata": {
        "id": "dX6Q0o1HqbYG"
      }
    },
    {
      "cell_type": "code",
      "source": [
        "# Create a empty list\n",
        "list=[]\n",
        "print(list)\n",
        "print(type(list))"
      ],
      "metadata": {
        "colab": {
          "base_uri": "https://localhost:8080/"
        },
        "id": "GWwLU2CXqssv",
        "outputId": "f1615e5a-18a4-445f-db51-7e8a90e9faf8"
      },
      "execution_count": null,
      "outputs": [
        {
          "output_type": "stream",
          "name": "stdout",
          "text": [
            "[]\n",
            "<class 'list'>\n"
          ]
        }
      ]
    },
    {
      "cell_type": "code",
      "source": [
        "list=eval(input(\"EnterList:\"))\n",
        "print(list)\n",
        "print(type(list))"
      ],
      "metadata": {
        "colab": {
          "base_uri": "https://localhost:8080/"
        },
        "id": "Xg8FVigTrI-8",
        "outputId": "6749d55a-77af-49ee-a2c0-5fd7ddd51f9d"
      },
      "execution_count": null,
      "outputs": [
        {
          "output_type": "stream",
          "name": "stdout",
          "text": [
            "EnterList:[1,2,3,4,5]\n",
            "[1, 2, 3, 4, 5]\n",
            "<class 'list'>\n"
          ]
        }
      ]
    },
    {
      "cell_type": "code",
      "source": [
        "# with list() function\n",
        "del list # we need to delete 'list' variable defined in above cell\n",
        "l = list(range(0,10))\n",
        "print(l)"
      ],
      "metadata": {
        "colab": {
          "base_uri": "https://localhost:8080/"
        },
        "id": "-QebnukKrSu_",
        "outputId": "8581009c-53a8-4936-942f-89aca3c67b83"
      },
      "execution_count": null,
      "outputs": [
        {
          "output_type": "stream",
          "name": "stdout",
          "text": [
            "[0, 1, 2, 3, 4, 5, 6, 7, 8, 9]\n"
          ]
        }
      ]
    },
    {
      "cell_type": "code",
      "source": [
        "# With split() Function:\n",
        "s=\"Learning Python is very very easy!!!\"\n",
        "l=s.split()\n",
        "print(l)\n",
        "type(l)"
      ],
      "metadata": {
        "colab": {
          "base_uri": "https://localhost:8080/"
        },
        "id": "Q3XKzZPyrokc",
        "outputId": "1145ccb9-05c9-458c-87e0-ab5d8d9b296d"
      },
      "execution_count": null,
      "outputs": [
        {
          "output_type": "stream",
          "name": "stdout",
          "text": [
            "['Learning', 'Python', 'is', 'very', 'very', 'easy!!!']\n"
          ]
        },
        {
          "output_type": "execute_result",
          "data": {
            "text/plain": [
              "list"
            ]
          },
          "metadata": {},
          "execution_count": 8
        }
      ]
    },
    {
      "cell_type": "markdown",
      "source": [
        "# Accessing Elements of List:\n",
        "  \n",
        "  We can access elements of the list either by using index or by using slice operator(:)"
      ],
      "metadata": {
        "id": "7inR4qOrsVLw"
      }
    },
    {
      "cell_type": "markdown",
      "source": [
        "1. By using Index:\n",
        "\n",
        "List follows zero based index. ie index of first element is zero."
      ],
      "metadata": {
        "id": "LEzNN3HosZWf"
      }
    },
    {
      "cell_type": "code",
      "source": [
        "l = [1,2,3,4,5]\n",
        "l[3] #providing index"
      ],
      "metadata": {
        "colab": {
          "base_uri": "https://localhost:8080/"
        },
        "id": "cBqXu9-psIZN",
        "outputId": "6595e7e4-5e2b-45bd-ba35-b14cdd610895"
      },
      "execution_count": null,
      "outputs": [
        {
          "output_type": "execute_result",
          "data": {
            "text/plain": [
              "4"
            ]
          },
          "metadata": {},
          "execution_count": 59
        }
      ]
    },
    {
      "cell_type": "code",
      "source": [
        "l=[\"python\",\"java\",\"c\",\"spark\"]\n",
        "l[4]"
      ],
      "metadata": {
        "colab": {
          "base_uri": "https://localhost:8080/",
          "height": 35
        },
        "id": "RluqMVEaIsF8",
        "outputId": "bdeaabcf-eb40-4efb-fe3e-9553b36a9d30"
      },
      "execution_count": null,
      "outputs": [
        {
          "output_type": "execute_result",
          "data": {
            "text/plain": [
              "'python'"
            ],
            "application/vnd.google.colaboratory.intrinsic+json": {
              "type": "string"
            }
          },
          "metadata": {},
          "execution_count": 60
        }
      ]
    },
    {
      "cell_type": "code",
      "source": [
        "l[3]"
      ],
      "metadata": {
        "colab": {
          "base_uri": "https://localhost:8080/"
        },
        "id": "yEbHuHWwsnjs",
        "outputId": "334c8444-afb6-40d3-b551-d86c1a4d09d8"
      },
      "execution_count": null,
      "outputs": [
        {
          "output_type": "execute_result",
          "data": {
            "text/plain": [
              "4"
            ]
          },
          "metadata": {},
          "execution_count": 11
        }
      ]
    },
    {
      "cell_type": "markdown",
      "source": [
        "2. By using Slice Operator:\n",
        "\n",
        "Syntax: list2 = list1[start:stop:step]"
      ],
      "metadata": {
        "id": "2XvBPx2bswZi"
      }
    },
    {
      "cell_type": "code",
      "source": [
        "n=[1,2,3,4,5,6,7,8,9,10]\n",
        "print(n[4:10])"
      ],
      "metadata": {
        "colab": {
          "base_uri": "https://localhost:8080/"
        },
        "id": "5LyNKMetstn3",
        "outputId": "f93d0bd4-12d0-4b4f-c3e9-0880007e7854"
      },
      "execution_count": null,
      "outputs": [
        {
          "output_type": "stream",
          "name": "stdout",
          "text": [
            "[5, 6, 7, 8, 9, 10]\n"
          ]
        }
      ]
    },
    {
      "cell_type": "markdown",
      "source": [
        " # List vs Mutability:\n",
        "\n",
        " Once we creates a List object, we can modify its content. Hence List objects are mutable."
      ],
      "metadata": {
        "id": "jkR7GTNCtE09"
      }
    },
    {
      "cell_type": "code",
      "source": [
        "n=[10,20,30,40]\n",
        "print(n)\n",
        "n[1]=777\n",
        "print(n)"
      ],
      "metadata": {
        "colab": {
          "base_uri": "https://localhost:8080/"
        },
        "id": "FOe0AXyqs_XD",
        "outputId": "0248bdbc-94cc-4968-d4f1-13b8e52b91ea"
      },
      "execution_count": null,
      "outputs": [
        {
          "output_type": "stream",
          "name": "stdout",
          "text": [
            "[10, 20, 30, 40]\n",
            "[10, 777, 30, 40]\n"
          ]
        }
      ]
    },
    {
      "cell_type": "markdown",
      "source": [
        " # Traversing the Elements of List:\n",
        "  The sequential access of each element in the list is called traversal."
      ],
      "metadata": {
        "id": "aCJZiMcItVo3"
      }
    },
    {
      "cell_type": "code",
      "source": [
        "# 1)By using while Loop:\n",
        "n=[0,1,2,3,4,5,6,7,8,9,10]\n",
        "i=0\n",
        "while i < len(n):\n",
        "  print(n[i])\n",
        "  i=i+1"
      ],
      "metadata": {
        "colab": {
          "base_uri": "https://localhost:8080/"
        },
        "id": "8ArFd9b8tQRz",
        "outputId": "51f19c71-9e7a-43d3-844d-7e0b501dd54a"
      },
      "execution_count": null,
      "outputs": [
        {
          "output_type": "stream",
          "name": "stdout",
          "text": [
            "0\n",
            "1\n",
            "2\n",
            "3\n",
            "4\n",
            "5\n",
            "6\n",
            "7\n",
            "8\n",
            "9\n",
            "10\n"
          ]
        }
      ]
    },
    {
      "cell_type": "code",
      "source": [
        "# 2)By using for Loop:\n",
        "n=[0,1,2,3,4,5,6,7,8,9,10]\n",
        "for n1 in n:\n",
        " print(n1)"
      ],
      "metadata": {
        "colab": {
          "base_uri": "https://localhost:8080/"
        },
        "id": "igw4bP4WtfHP",
        "outputId": "5d409067-8eaa-47c9-93ce-16fd375a407a"
      },
      "execution_count": null,
      "outputs": [
        {
          "output_type": "stream",
          "name": "stdout",
          "text": [
            "0\n",
            "1\n",
            "2\n",
            "3\n",
            "4\n",
            "5\n",
            "6\n",
            "7\n",
            "8\n",
            "9\n",
            "10\n"
          ]
        }
      ]
    },
    {
      "cell_type": "code",
      "source": [
        "# 3)To display Elements by Index wise:\n",
        "l=[\"A\",\"B\",\"C\"]\n",
        "x=len(l)\n",
        "for i in range(x):\n",
        "  print(l[i],\"is available at positive index: \",i,\"and at negative index: \",i-x)"
      ],
      "metadata": {
        "colab": {
          "base_uri": "https://localhost:8080/"
        },
        "id": "O8AT9KF-u3cl",
        "outputId": "1d4a9060-2d1f-4b97-8696-ab506671e107"
      },
      "execution_count": null,
      "outputs": [
        {
          "output_type": "stream",
          "name": "stdout",
          "text": [
            "A is available at positive index:  0 and at negative index:  -3\n",
            "B is available at positive index:  1 and at negative index:  -2\n",
            "C is available at positive index:  2 and at negative index:  -1\n"
          ]
        }
      ]
    },
    {
      "cell_type": "markdown",
      "source": [
        "# Important Functions of List:\n",
        "\n",
        "I. To get Information about List:"
      ],
      "metadata": {
        "id": "V7rId7OqvYcO"
      }
    },
    {
      "cell_type": "code",
      "source": [
        "#1) len(): Returns the number of elements present in the list\n",
        "n=[10,20,30,40]\n",
        "print(len(n))"
      ],
      "metadata": {
        "colab": {
          "base_uri": "https://localhost:8080/"
        },
        "id": "CTo8YWwuvXpv",
        "outputId": "3b8042c2-a4f8-41fd-a7d6-bb17f330e283"
      },
      "execution_count": null,
      "outputs": [
        {
          "output_type": "stream",
          "name": "stdout",
          "text": [
            "4\n"
          ]
        }
      ]
    },
    {
      "cell_type": "code",
      "source": [
        "#2) count(): It returns the number of occurrences of specified item in the list\n",
        "n=[1,2,2,2,2,3,3]\n",
        "print(n.count(1))\n",
        "print(n.count(2))\n",
        "print(n.count(3))\n"
      ],
      "metadata": {
        "colab": {
          "base_uri": "https://localhost:8080/"
        },
        "id": "tn5VdVYrvOna",
        "outputId": "a5940685-5bb9-4419-850c-bf423707f41c"
      },
      "execution_count": null,
      "outputs": [
        {
          "output_type": "stream",
          "name": "stdout",
          "text": [
            "1\n",
            "4\n",
            "2\n"
          ]
        }
      ]
    },
    {
      "cell_type": "code",
      "source": [
        "#3) index(): Returns the index of first occurrence of the specified item.\n",
        "n=[1,2,2,2,2,3,3]\n",
        "print(n.index(1))"
      ],
      "metadata": {
        "colab": {
          "base_uri": "https://localhost:8080/"
        },
        "id": "ttqT5iQkv6oW",
        "outputId": "7610b600-7404-44a2-c5cf-c735e7bb75af"
      },
      "execution_count": null,
      "outputs": [
        {
          "output_type": "stream",
          "name": "stdout",
          "text": [
            "0\n"
          ]
        }
      ]
    },
    {
      "cell_type": "markdown",
      "source": [
        "II. Manipulating Elements of List:"
      ],
      "metadata": {
        "id": "qrfJV6jfwNaY"
      }
    },
    {
      "cell_type": "code",
      "source": [
        "#1) append() Function: add item at the end of the list\n",
        "list=[]\n",
        "list.append(\"A\")\n",
        "list.append(\"B\")\n",
        "list.append(\"C\")\n",
        "print(list)"
      ],
      "metadata": {
        "colab": {
          "base_uri": "https://localhost:8080/"
        },
        "id": "I1vDCNMwwHfn",
        "outputId": "c78ab58f-242c-49c7-dcdf-26310fea4868"
      },
      "execution_count": null,
      "outputs": [
        {
          "output_type": "stream",
          "name": "stdout",
          "text": [
            "['A', 'B', 'C']\n"
          ]
        }
      ]
    },
    {
      "cell_type": "code",
      "source": [
        "# E.g To add all the elements to list upto 100 which are divisible by 10 --> simple --> complex\n",
        "list1=[]\n",
        "for i in range(101):\n",
        "  if i%10==0:\n",
        "    list1.append(i)\n",
        "print(list1)"
      ],
      "metadata": {
        "colab": {
          "base_uri": "https://localhost:8080/"
        },
        "id": "wOJMuYtuwgr4",
        "outputId": "8520431a-2b68-4b35-eb0d-133f493f2c39"
      },
      "execution_count": null,
      "outputs": [
        {
          "output_type": "stream",
          "name": "stdout",
          "text": [
            "[0, 10, 20, 30, 40, 50, 60, 70, 80, 90, 100]\n"
          ]
        }
      ]
    },
    {
      "cell_type": "code",
      "source": [
        "#2) Insert Function: to insert item at specified index position\n",
        "n=[1,2,3,4,5]\n",
        "n.insert(1,888)\n",
        "print(n)"
      ],
      "metadata": {
        "colab": {
          "base_uri": "https://localhost:8080/"
        },
        "id": "JDecEx13wykf",
        "outputId": "3670b2f3-3da9-4964-f476-010a842ac90c"
      },
      "execution_count": null,
      "outputs": [
        {
          "output_type": "stream",
          "name": "stdout",
          "text": [
            "[1, 888, 2, 3, 4, 5]\n"
          ]
        }
      ]
    },
    {
      "cell_type": "markdown",
      "source": [
        "######  Note: If the specified index is greater than max index then element will be inserted at lastposition. If the specified index is smaller than min index then element will be inserted at first position."
      ],
      "metadata": {
        "id": "CGs3a7CtxQnI"
      }
    },
    {
      "cell_type": "code",
      "source": [
        "#3)extend() Function: To add all items of one list to another list\n",
        "\n",
        "order1=[\"Chicken\",\"Mutton\",\"Fish\"]\n",
        "order2=[\"RC\",\"KF\",\"FO\"]\n",
        "order1.extend(order2)\n",
        "print(order1)"
      ],
      "metadata": {
        "colab": {
          "base_uri": "https://localhost:8080/"
        },
        "id": "Xu6JZGrHxHLA",
        "outputId": "95bf2720-0b96-40eb-9345-a599105c4e1c"
      },
      "execution_count": null,
      "outputs": [
        {
          "output_type": "stream",
          "name": "stdout",
          "text": [
            "['Chicken', 'Mutton', 'Fish', 'RC', 'KF', 'FO']\n"
          ]
        }
      ]
    },
    {
      "cell_type": "code",
      "source": [
        "#4) remove() function:  We can use this function to remove specified item from the list.If the item present\n",
        " # multiple times then only first occurrence will be removed.\n",
        "n=[10,20,10,30]\n",
        "n.remove(10)\n",
        "print(n)"
      ],
      "metadata": {
        "colab": {
          "base_uri": "https://localhost:8080/"
        },
        "id": "aOauAy6FxjWB",
        "outputId": "aca99f2a-6e62-4735-dfae-20e27aa4b1c7"
      },
      "execution_count": null,
      "outputs": [
        {
          "output_type": "stream",
          "name": "stdout",
          "text": [
            "[20, 10, 30]\n"
          ]
        }
      ]
    },
    {
      "cell_type": "code",
      "source": [
        "# 5) pop()Function:  It removes and returns the last element of the list\n",
        "\n",
        "n=[10,20,30,40]\n",
        "print(n.pop())\n",
        "print(n.pop())\n",
        "print(n)"
      ],
      "metadata": {
        "colab": {
          "base_uri": "https://localhost:8080/"
        },
        "id": "5AocMLXvx4Aa",
        "outputId": "b569c335-8460-4670-97d0-0b617899c8ba"
      },
      "execution_count": null,
      "outputs": [
        {
          "output_type": "stream",
          "name": "stdout",
          "text": [
            "40\n",
            "30\n",
            "[10, 20]\n"
          ]
        }
      ]
    },
    {
      "cell_type": "code",
      "source": [
        "n = [10,20,30,40,50,60]\n",
        "print(n.pop()) # 60\n",
        "print(n.pop(1)) # 20"
      ],
      "metadata": {
        "colab": {
          "base_uri": "https://localhost:8080/"
        },
        "id": "aaLLfNlvyK-O",
        "outputId": "76c0d96c-3a72-4edd-e941-cef25c61f0e6"
      },
      "execution_count": null,
      "outputs": [
        {
          "output_type": "stream",
          "name": "stdout",
          "text": [
            "60\n",
            "20\n"
          ]
        }
      ]
    },
    {
      "cell_type": "markdown",
      "source": [
        "![image.png](data:image/png;base64,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)"
      ],
      "metadata": {
        "id": "V8iIbsZEyjHj"
      }
    },
    {
      "cell_type": "markdown",
      "source": [
        "III) Ordering Elements of List:\n",
        "\n",
        "1. reverse():\n",
        "  We can use to reverse() order of elements of list.\n"
      ],
      "metadata": {
        "id": "RtdxtY7IynAd"
      }
    },
    {
      "cell_type": "code",
      "source": [
        "n=[10,20,30,40]\n",
        "n.reverse()\n",
        "print(n)"
      ],
      "metadata": {
        "colab": {
          "base_uri": "https://localhost:8080/"
        },
        "id": "0maW5Y1KyW5I",
        "outputId": "38785e18-2aa6-4614-8beb-fff4d0ef2229"
      },
      "execution_count": null,
      "outputs": [
        {
          "output_type": "stream",
          "name": "stdout",
          "text": [
            "[40, 30, 20, 10]\n"
          ]
        }
      ]
    },
    {
      "cell_type": "markdown",
      "source": [
        "2.sort():\n",
        "\n",
        "  In list by default insertion order is preserved. \n",
        "  \n",
        "  If want to sort the elements of list\n",
        " according to default natural sorting order then we should go for sort() method.\n",
        "\n",
        "For numbers --> Default Natural sorting Order is Ascending Order\n",
        "\n",
        "For Strings-->Default Natural sorting order is Alphabetical Order"
      ],
      "metadata": {
        "id": "B5hsxmusy3BV"
      }
    },
    {
      "cell_type": "code",
      "source": [
        "n=[20,5,15,10,0]\n",
        "n.sort()\n",
        "print(n)"
      ],
      "metadata": {
        "colab": {
          "base_uri": "https://localhost:8080/"
        },
        "id": "MkdhWpRHyy2t",
        "outputId": "a143056a-0467-4c13-f31f-43f9bedbbf4c"
      },
      "execution_count": null,
      "outputs": [
        {
          "output_type": "stream",
          "name": "stdout",
          "text": [
            "[0, 5, 10, 15, 20]\n"
          ]
        }
      ]
    },
    {
      "cell_type": "code",
      "source": [
        "s=[\"Dog\",\"Banana\",\"Cat\",\"Apple\"]\n",
        "s.sort()\n",
        "print(s)"
      ],
      "metadata": {
        "colab": {
          "base_uri": "https://localhost:8080/"
        },
        "id": "EAgA7mj2zIBh",
        "outputId": "81f569fd-e81a-4c32-891b-659ea076caa3"
      },
      "execution_count": null,
      "outputs": [
        {
          "output_type": "stream",
          "name": "stdout",
          "text": [
            "['Apple', 'Banana', 'Cat', 'Dog']\n"
          ]
        }
      ]
    },
    {
      "cell_type": "markdown",
      "source": [
        "**To Sort in Reverse of Default Natural Sorting Order:**\n",
        "\n",
        "  We can sort according to reverse of default natural sorting order by using reverse=True\n",
        " argument."
      ],
      "metadata": {
        "id": "KJ4nvzVtzSkA"
      }
    },
    {
      "cell_type": "code",
      "source": [
        "n=[40,10,30,20]\n",
        "n.sort()\n",
        "print(n)\n",
        "n.sort(reverse=True)\n",
        "print(n)\n",
        "n.sort(reverse=False)\n",
        "print(n)"
      ],
      "metadata": {
        "colab": {
          "base_uri": "https://localhost:8080/"
        },
        "id": "dQm0Y1w5zMht",
        "outputId": "0411da6b-3b94-4610-81ed-021d828cd1cd"
      },
      "execution_count": null,
      "outputs": [
        {
          "output_type": "stream",
          "name": "stdout",
          "text": [
            "[10, 20, 30, 40]\n",
            "[40, 30, 20, 10]\n",
            "[10, 20, 30, 40]\n"
          ]
        }
      ]
    },
    {
      "cell_type": "markdown",
      "source": [
        "# Aliasing and Cloning of List Objects:\n",
        "\n",
        "  The process of giving another reference variable to the existing list is called aliasing."
      ],
      "metadata": {
        "id": "vWMhzDCOz3hE"
      }
    },
    {
      "cell_type": "code",
      "source": [
        "x=[10,20,30,40]\n",
        "    \n",
        "y=x\n",
        "print(id(x)) \n",
        "print(id(y))"
      ],
      "metadata": {
        "colab": {
          "base_uri": "https://localhost:8080/"
        },
        "id": "yXICB0TWzqIz",
        "outputId": "18756fee-4a0b-409e-e940-5c9cb5759b9e"
      },
      "execution_count": null,
      "outputs": [
        {
          "output_type": "stream",
          "name": "stdout",
          "text": [
            "140013732930256\n",
            "140013732930256\n"
          ]
        }
      ]
    },
    {
      "cell_type": "markdown",
      "source": [
        "The process of creating exactly duplicate independent object is called cloning.\n",
        "\n",
        "We can implement cloning by using slice operator or by using copy() function."
      ],
      "metadata": {
        "id": "dnVEvtWS0HWl"
      }
    },
    {
      "cell_type": "code",
      "source": [
        "# Cloning by using slicing operator\n",
        "\n",
        "x=[10,20,30,40]\n",
        "y=x[:]\n",
        "y[1]=777\n",
        "print(x)\n",
        "print(y)"
      ],
      "metadata": {
        "colab": {
          "base_uri": "https://localhost:8080/"
        },
        "id": "3jw1FZywz91X",
        "outputId": "135dc63e-0089-4c28-f897-a3da117ae626"
      },
      "execution_count": null,
      "outputs": [
        {
          "output_type": "stream",
          "name": "stdout",
          "text": [
            "[10, 20, 30, 40]\n",
            "[10, 777, 30, 40]\n"
          ]
        }
      ]
    },
    {
      "cell_type": "code",
      "source": [
        "# cloning By using copy() Function:\n",
        "x=[10,20,30,40]\n",
        "y=x.copy()\n",
        "y[1]=77\n",
        "print(x)\n",
        "print(y)"
      ],
      "metadata": {
        "colab": {
          "base_uri": "https://localhost:8080/"
        },
        "id": "qHtooPmJ0bx8",
        "outputId": "2dd28d77-c189-430c-f248-363f51ff1d33"
      },
      "execution_count": 1,
      "outputs": [
        {
          "output_type": "stream",
          "name": "stdout",
          "text": [
            "[10, 20, 30, 40]\n",
            "[10, 77, 30, 40]\n"
          ]
        }
      ]
    },
    {
      "cell_type": "markdown",
      "source": [
        "# Using Mathematical Operators for List Objects\n",
        "\n",
        "\n",
        "Concatenation Operator (+):\n",
        "\n",
        "We can use + to concatenate 2 lists into a single list."
      ],
      "metadata": {
        "id": "1Wxu2FKp00YS"
      }
    },
    {
      "cell_type": "code",
      "source": [
        "a=[10,20,30]\n",
        "b=[40,50,60]\n",
        "c=a+b\n",
        "print(c)"
      ],
      "metadata": {
        "colab": {
          "base_uri": "https://localhost:8080/"
        },
        "id": "0jzXBSr80s-C",
        "outputId": "84b032a5-e941-4f76-d3fe-e20d531d9f62"
      },
      "execution_count": null,
      "outputs": [
        {
          "output_type": "stream",
          "name": "stdout",
          "text": [
            "[10, 20, 30, 40, 50, 60]\n"
          ]
        }
      ]
    },
    {
      "cell_type": "markdown",
      "source": [
        " Repetition Operator (*):\n",
        "\n",
        "We can use repetition operator * to repeat elements of list specified number of times."
      ],
      "metadata": {
        "id": "eiInLuer1J2L"
      }
    },
    {
      "cell_type": "code",
      "source": [
        "x=[10,20,30]\n",
        "y=x*8\n",
        "print(y)"
      ],
      "metadata": {
        "colab": {
          "base_uri": "https://localhost:8080/"
        },
        "id": "BmlB4Nox1FkS",
        "outputId": "67aaa151-02dd-4dab-a021-7ea47d3bc8f9"
      },
      "execution_count": 2,
      "outputs": [
        {
          "output_type": "stream",
          "name": "stdout",
          "text": [
            "[10, 20, 30, 10, 20, 30, 10, 20, 30, 10, 20, 30, 10, 20, 30, 10, 20, 30, 10, 20, 30, 10, 20, 30]\n"
          ]
        }
      ]
    },
    {
      "cell_type": "markdown",
      "source": [
        "Comparing List Objects:\n",
        "\n",
        "  We can use comparison operators for List objects."
      ],
      "metadata": {
        "id": "fnN8hqKA1aF5"
      }
    },
    {
      "cell_type": "code",
      "source": [
        "x=[\"Dog\",\"Cat\",\"Rat\"]\n",
        "y=[\"Dog\",\"Cat\",\"Rat\"]\n",
        "z=[\"DOG\",\"CAT\",\"RAT\"]\n",
        "print(x == y)\n",
        "print(x == z)\n",
        "print(x != z)"
      ],
      "metadata": {
        "colab": {
          "base_uri": "https://localhost:8080/"
        },
        "id": "SoJ--Gjn1Rts",
        "outputId": "f6b3a5df-59ad-4ea8-b21b-81a023280c9c"
      },
      "execution_count": null,
      "outputs": [
        {
          "output_type": "stream",
          "name": "stdout",
          "text": [
            "True\n",
            "False\n",
            "True\n"
          ]
        }
      ]
    },
    {
      "cell_type": "code",
      "source": [
        "x=[50,20,30]\n",
        "y=[40,50,60,100,200]\n",
        "print(x>y)\n",
        "print(x>=y)\n",
        "print(x<y)\n",
        "print(x<=y)"
      ],
      "metadata": {
        "colab": {
          "base_uri": "https://localhost:8080/"
        },
        "id": "jYvVjfhZ1gYK",
        "outputId": "27557c27-f78d-4d16-a379-c6b1ed2f2109"
      },
      "execution_count": null,
      "outputs": [
        {
          "output_type": "stream",
          "name": "stdout",
          "text": [
            "True\n",
            "True\n",
            "False\n",
            "False\n"
          ]
        }
      ]
    },
    {
      "cell_type": "markdown",
      "source": [
        " Membership Operators:\n",
        "\n",
        "  We can check whether element is a member of the list or not by using memebership\n",
        " operators.\n",
        "\n",
        " 1)\n",
        "in Operator\n",
        "\n",
        "2)\n",
        " not in Operator"
      ],
      "metadata": {
        "id": "KP_909iH1yrp"
      }
    },
    {
      "cell_type": "code",
      "source": [
        "n=[10,20,30,40]\n",
        "print(10 in n)\n",
        "print(10 not in n)\n",
        "print(50in n)"
      ],
      "metadata": {
        "colab": {
          "base_uri": "https://localhost:8080/"
        },
        "id": "BXSYiLHp1vFU",
        "outputId": "8456fc61-4e52-4ae3-b7ee-a3d869763eae"
      },
      "execution_count": null,
      "outputs": [
        {
          "output_type": "stream",
          "name": "stdout",
          "text": [
            "True\n",
            "False\n",
            "False\n"
          ]
        }
      ]
    },
    {
      "cell_type": "markdown",
      "source": [
        "###  clear() function:\n",
        "\n",
        "--> To remove all elements of list\n",
        "\n"
      ],
      "metadata": {
        "id": "LKCExlOs2EB1"
      }
    },
    {
      "cell_type": "code",
      "source": [
        "n=[10,20,30,40]\n",
        "print(n)\n",
        "n.clear()\n",
        "print(n)"
      ],
      "metadata": {
        "colab": {
          "base_uri": "https://localhost:8080/"
        },
        "id": "Ajlme1At2AfD",
        "outputId": "ff78dd67-7f7b-46e5-eefc-3f40be46d030"
      },
      "execution_count": null,
      "outputs": [
        {
          "output_type": "stream",
          "name": "stdout",
          "text": [
            "[10, 20, 30, 40]\n",
            "[]\n"
          ]
        }
      ]
    },
    {
      "cell_type": "markdown",
      "source": [
        " # Nested Lists:\n",
        "  Sometimes we can take one list inside another list. Such type of lists are called nested"
      ],
      "metadata": {
        "id": "_bDo8doE2W79"
      }
    },
    {
      "cell_type": "code",
      "source": [
        "n=[10,20,[30,40]]\n",
        "print(n)\n",
        "print(n[0])\n",
        "print(n[2])\n",
        "print(n[2][0])\n",
        "print(n[2][1])"
      ],
      "metadata": {
        "colab": {
          "base_uri": "https://localhost:8080/"
        },
        "id": "vmlpOOla2P0V",
        "outputId": "1f626f10-b51b-4987-afe0-ff90af88056f"
      },
      "execution_count": null,
      "outputs": [
        {
          "output_type": "stream",
          "name": "stdout",
          "text": [
            "[10, 20, [30, 40]]\n",
            "10\n",
            "[30, 40]\n",
            "30\n",
            "40\n"
          ]
        }
      ]
    },
    {
      "cell_type": "code",
      "source": [
        " #Nested List as Matrix:\n",
        " # In Python we can represent matrix by using nested lists.\n",
        "n=[[10,20,30],[40,50,60],[70,80,90]]\n",
        "print(n)\n",
        "print(\"ElementsbyRowwise:\")\n",
        "for r in n:\n",
        "   print(r)\n",
        "print(\"ElementsbyMatrixstyle:\")\n",
        "for i in range(len(n)):\n",
        "  for j in range(len(n[i])):\n",
        "     print(n[i][j],end=' ')\n",
        "  print()"
      ],
      "metadata": {
        "colab": {
          "base_uri": "https://localhost:8080/"
        },
        "id": "a8iDrgQT2dVC",
        "outputId": "84b9af63-b751-41d4-a1a1-9d19063283f1"
      },
      "execution_count": null,
      "outputs": [
        {
          "output_type": "stream",
          "name": "stdout",
          "text": [
            "[[10, 20, 30], [40, 50, 60], [70, 80, 90]]\n",
            "ElementsbyRowwise:\n",
            "[10, 20, 30]\n",
            "[40, 50, 60]\n",
            "[70, 80, 90]\n",
            "ElementsbyMatrixstyle:\n",
            "10 20 30 \n",
            "40 50 60 \n",
            "70 80 90 \n"
          ]
        }
      ]
    },
    {
      "cell_type": "markdown",
      "source": [
        "# List Comprehensions:\n",
        "\n",
        " It is very easy and compact way of creating list objects from any iterable objects\n",
        " (Like List, Tuple, Dictionary, Range etc) based on some condition.\n",
        "\n",
        " Syntax:\n",
        "list = [expression for item in list if condition]"
      ],
      "metadata": {
        "id": "I1G4ZgXj3JMD"
      }
    },
    {
      "cell_type": "code",
      "source": [
        "s=[x*x for x in range(1,101)]\n",
        "print(s)"
      ],
      "metadata": {
        "colab": {
          "base_uri": "https://localhost:8080/"
        },
        "id": "PjqP7Q-T2zZq",
        "outputId": "e045d843-5aee-42e4-8f1e-363546f46d7d"
      },
      "execution_count": 7,
      "outputs": [
        {
          "output_type": "stream",
          "name": "stdout",
          "text": [
            "[1, 4, 9, 16, 25, 36, 49, 64, 81, 100, 121, 144, 169, 196, 225, 256, 289, 324, 361, 400, 441, 484, 529, 576, 625, 676, 729, 784, 841, 900, 961, 1024, 1089, 1156, 1225, 1296, 1369, 1444, 1521, 1600, 1681, 1764, 1849, 1936, 2025, 2116, 2209, 2304, 2401, 2500, 2601, 2704, 2809, 2916, 3025, 3136, 3249, 3364, 3481, 3600, 3721, 3844, 3969, 4096, 4225, 4356, 4489, 4624, 4761, 4900, 5041, 5184, 5329, 5476, 5625, 5776, 5929, 6084, 6241, 6400, 6561, 6724, 6889, 7056, 7225, 7396, 7569, 7744, 7921, 8100, 8281, 8464, 8649, 8836, 9025, 9216, 9409, 9604, 9801, 10000]\n"
          ]
        }
      ]
    },
    {
      "cell_type": "code",
      "source": [
        "m=[x for x in s if x%2==0]\n",
        "print(m)"
      ],
      "metadata": {
        "colab": {
          "base_uri": "https://localhost:8080/"
        },
        "id": "oP8BRJnu3cKX",
        "outputId": "9d004ec9-2c06-4b2d-f76c-5c60a1fd77b1"
      },
      "execution_count": null,
      "outputs": [
        {
          "output_type": "stream",
          "name": "stdout",
          "text": [
            "[4, 16, 36, 64, 100]\n"
          ]
        }
      ]
    },
    {
      "cell_type": "code",
      "source": [
        "words=[\"Balaiah\",\"Nag\",\"Venkatesh\",\"Chiranjeevi\"]\n",
        "l=[w[0] for w in words]\n",
        "print(l)"
      ],
      "metadata": {
        "colab": {
          "base_uri": "https://localhost:8080/"
        },
        "id": "s65jsjLb3n9q",
        "outputId": "be8d7d5e-8972-4008-adfc-b1ab9b996b50"
      },
      "execution_count": null,
      "outputs": [
        {
          "output_type": "stream",
          "name": "stdout",
          "text": [
            "['B', 'N', 'V', 'C']\n"
          ]
        }
      ]
    },
    {
      "cell_type": "code",
      "source": [
        "num1=[10,20,30,40]\n",
        "num2=[30,40,50,60]\n",
        "num3=[i for i in num1 if i not in num2]\n",
        "print(num3)\n",
        "\n",
        "# Task: find the commom elements in two lists by using list comprehension"
      ],
      "metadata": {
        "colab": {
          "base_uri": "https://localhost:8080/"
        },
        "id": "SX6JHtnn3yBP",
        "outputId": "912155f9-caa0-402c-9ec4-855b33b0ec91"
      },
      "execution_count": null,
      "outputs": [
        {
          "output_type": "stream",
          "name": "stdout",
          "text": [
            "[10, 20]\n"
          ]
        }
      ]
    },
    {
      "cell_type": "code",
      "source": [
        "K=[x for x in s if x%2==0]\n",
        "print(K)"
      ],
      "metadata": {
        "id": "dJAbZHK84F7G",
        "outputId": "29add372-a36c-498b-c13e-a659cb583a65",
        "colab": {
          "base_uri": "https://localhost:8080/"
        }
      },
      "execution_count": 9,
      "outputs": [
        {
          "output_type": "stream",
          "name": "stdout",
          "text": [
            "[4, 16, 36, 64, 100, 144, 196, 256, 324, 400, 484, 576, 676, 784, 900, 1024, 1156, 1296, 1444, 1600, 1764, 1936, 2116, 2304, 2500, 2704, 2916, 3136, 3364, 3600, 3844, 4096, 4356, 4624, 4900, 5184, 5476, 5776, 6084, 6400, 6724, 7056, 7396, 7744, 8100, 8464, 8836, 9216, 9604, 10000]\n"
          ]
        }
      ]
    }
  ]
}