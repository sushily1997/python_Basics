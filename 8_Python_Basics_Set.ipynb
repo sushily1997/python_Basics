{
  "nbformat": 4,
  "nbformat_minor": 0,
  "metadata": {
    "colab": {
      "name": "8_Python_Basics_Set.ipynb",
      "provenance": [],
      "include_colab_link": true
    },
    "kernelspec": {
      "name": "python3",
      "display_name": "Python 3"
    },
    "language_info": {
      "name": "python"
    }
  },
  "cells": [
    {
      "cell_type": "markdown",
      "metadata": {
        "id": "view-in-github",
        "colab_type": "text"
      },
      "source": [
        "<a href=\"https://colab.research.google.com/github/sushily1997/python_Basics/blob/main/8_Python_Basics_Set.ipynb\" target=\"_parent\"><img src=\"https://colab.research.google.com/assets/colab-badge.svg\" alt=\"Open In Colab\"/></a>"
      ]
    },
    {
      "cell_type": "markdown",
      "source": [
        "# SET - Data Structure\n",
        "\n",
        "1. If we want to represent a group of unique values as a single entity then we should go\n",
        "for set.\n",
        "2. Duplicates are not allowed.\n",
        "3. Insertion order is not preserved.But we can sort the elements.\n",
        "4. Indexing and slicing not allowed for the set.\n",
        "5. Heterogeneous elements are allowed.\n",
        "6. Set objects are mutable i.e once we creates set object we can perform any changes in\n",
        "that object based on our requirement.\n",
        "7. We can represent set elements within curly braces and with comma seperation\n",
        "8. We can apply mathematical operations like union, intersection, difference etc on set\n",
        "objects.\n"
      ],
      "metadata": {
        "id": "lJ0CqdVEP7zQ"
      }
    },
    {
      "cell_type": "code",
      "source": [
        "s=set()\n",
        "print(type(s))\n",
        "s_from_list= set([1,2,3,4,5])\n",
        "print(s_from_list)\n",
        "print (type(s_from_list))"
      ],
      "metadata": {
        "colab": {
          "base_uri": "https://localhost:8080/"
        },
        "id": "49UKd6loESXv",
        "outputId": "0d841819-e978-496e-8694-6e5a60d9bd04"
      },
      "execution_count": null,
      "outputs": [
        {
          "output_type": "stream",
          "name": "stdout",
          "text": [
            "<class 'set'>\n",
            "{1, 2, 3, 4, 5}\n",
            "<class 'set'>\n"
          ]
        }
      ]
    },
    {
      "cell_type": "code",
      "source": [
        "s={10,20,30,40,'a','Connor',(1,2,3)}\n",
        "print(s)\n",
        "print(type(s))"
      ],
      "metadata": {
        "colab": {
          "base_uri": "https://localhost:8080/"
        },
        "id": "CtK0eP6QP9qE",
        "outputId": "306bad30-a7fc-464b-c202-fd610f921f13"
      },
      "execution_count": null,
      "outputs": [
        {
          "output_type": "stream",
          "name": "stdout",
          "text": [
            "{'a', 40, 10, (1, 2, 3), 20, 'Connor', 30}\n",
            "<class 'set'>\n"
          ]
        }
      ]
    },
    {
      "cell_type": "code",
      "source": [
        "#We can create set objects by using set() Function s = set(any sequence)\n",
        "l=[1,2,4,3,5,1,3,6,4,6,4,5]\n",
        "s=set(l)\n",
        "print(s)#{1,2,3,4,5,6}"
      ],
      "metadata": {
        "colab": {
          "base_uri": "https://localhost:8080/"
        },
        "id": "qnIre5s1Qc6z",
        "outputId": "462c1991-620a-4c6a-f668-c31391da365d"
      },
      "execution_count": null,
      "outputs": [
        {
          "output_type": "stream",
          "name": "stdout",
          "text": [
            "{1, 2, 3, 4, 5, 6}\n"
          ]
        }
      ]
    },
    {
      "cell_type": "code",
      "source": [
        "s=set(range(9))\n",
        "print(s)#{0,1,2,3,4}"
      ],
      "metadata": {
        "colab": {
          "base_uri": "https://localhost:8080/"
        },
        "id": "cj_oAvJFQm2M",
        "outputId": "8b248b52-0ef4-49a8-b18f-a1947da3825f"
      },
      "execution_count": 1,
      "outputs": [
        {
          "output_type": "stream",
          "name": "stdout",
          "text": [
            "{0, 1, 2, 3, 4, 5, 6, 7, 8}\n"
          ]
        }
      ]
    },
    {
      "cell_type": "code",
      "source": [
        "s=set(range(-3))\n",
        "print(s) #When we take the range in minus then outgoing will get empty set"
      ],
      "metadata": {
        "colab": {
          "base_uri": "https://localhost:8080/"
        },
        "id": "Xv1u6FNEIiiO",
        "outputId": "510dc42e-770f-480d-b272-390ec6bf29a7"
      },
      "execution_count": null,
      "outputs": [
        {
          "output_type": "stream",
          "name": "stdout",
          "text": [
            "set()\n"
          ]
        }
      ]
    },
    {
      "cell_type": "markdown",
      "source": [
        "# Important Functions of Set:"
      ],
      "metadata": {
        "id": "oOd2dRlQQ0pz"
      }
    },
    {
      "cell_type": "code",
      "source": [
        "# 1) add(x): add item x to the set\n",
        "s={10,20,30}\n",
        "s.add(40);\n",
        "s.add(40);\n",
        "print(s)#{40,10,20,30}"
      ],
      "metadata": {
        "colab": {
          "base_uri": "https://localhost:8080/"
        },
        "id": "j_psE_25Qu--",
        "outputId": "0ce6d876-ee85-41df-a7c4-9ab5f7bd1285"
      },
      "execution_count": null,
      "outputs": [
        {
          "output_type": "stream",
          "name": "stdout",
          "text": [
            "{40, 10, 20, 30}\n"
          ]
        }
      ]
    },
    {
      "cell_type": "code",
      "source": [
        "# 2)  update(x,y,z): add multiple items to the set\n",
        "s={10,20,30}\n",
        "l=[40,50,60,10]\n",
        "s.update(l,range(9))\n",
        "s.update((\"man\",\"cat\"))\n",
        "print(s)"
      ],
      "metadata": {
        "colab": {
          "base_uri": "https://localhost:8080/"
        },
        "id": "u43E6sWfQ-od",
        "outputId": "af5d5357-d882-4b47-e9ba-aa6db8a30d96"
      },
      "execution_count": 2,
      "outputs": [
        {
          "output_type": "stream",
          "name": "stdout",
          "text": [
            "{0, 1, 2, 3, 4, 5, 6, 7, 40, 8, 10, 50, 'cat', 20, 'man', 60, 30}\n"
          ]
        }
      ]
    },
    {
      "cell_type": "markdown",
      "source": [
        "Q) What is the difference between add() and update()\n",
        "Functions in Set?\n",
        "\n",
        "We can use add() to add individual item to the Set,where as we can use update()\n",
        "function to add multiple items to Set.\n",
        "\n",
        "add() function can take only one argument where as update() function can take any number of arguments."
      ],
      "metadata": {
        "id": "XA4NQCS1RVVq"
      }
    },
    {
      "cell_type": "code",
      "source": [
        "#3. copy(): returns copy of the set(cloning)\n",
        "s={1,2,3,4,('a','b','c')}\n",
        "s1=s.copy()\n",
        "print(s1)"
      ],
      "metadata": {
        "colab": {
          "base_uri": "https://localhost:8080/"
        },
        "id": "hVPCyHbXRUsw",
        "outputId": "d7b6d40e-3f2b-458d-de76-9ad7176b9a5c"
      },
      "execution_count": 3,
      "outputs": [
        {
          "output_type": "stream",
          "name": "stdout",
          "text": [
            "{1, 2, 3, 4, ('a', 'b', 'c')}\n"
          ]
        }
      ]
    },
    {
      "cell_type": "code",
      "source": [
        "#4. pop(): It removes and returns some random element from the set\n",
        "s={40,10,30,20,1,'a','c'}\n",
        "print(s)\n",
        "print(s.pop())\n",
        "print(s)"
      ],
      "metadata": {
        "colab": {
          "base_uri": "https://localhost:8080/"
        },
        "id": "9weJXW8bRM81",
        "outputId": "c603fc1f-9bd5-4202-a71d-8e0da4e47215"
      },
      "execution_count": null,
      "outputs": [
        {
          "output_type": "stream",
          "name": "stdout",
          "text": [
            "{1, 'a', 40, 10, 20, 'c', 30}\n",
            "1\n",
            "{'a', 40, 10, 20, 'c', 30}\n"
          ]
        }
      ]
    },
    {
      "cell_type": "code",
      "source": [
        "#5. remove(x):removes specified item from the set\n",
        "s={1,2,3,4,3,4,3,3,5}\n",
        "s.remove(3)\n",
        "print(s)"
      ],
      "metadata": {
        "colab": {
          "base_uri": "https://localhost:8080/"
        },
        "id": "amS7bzEdR7l7",
        "outputId": "bfbb87ea-ae9b-475f-8c45-977802d256ae"
      },
      "execution_count": null,
      "outputs": [
        {
          "output_type": "stream",
          "name": "stdout",
          "text": [
            "{1, 2, 4, 5}\n"
          ]
        }
      ]
    },
    {
      "cell_type": "code",
      "source": [
        "#6.  discard(): It removes specified element from the space\n",
        "# If specified error not present in the set then it will not throw error\n",
        "s={40,10,30,20}\n",
        "s.discard(50)#no error raised even though '50' is not present in the set\n",
        "print(s)"
      ],
      "metadata": {
        "colab": {
          "base_uri": "https://localhost:8080/"
        },
        "id": "r3PJIF5zSrDz",
        "outputId": "eff0a33c-8ca7-4613-b9b2-be2c7669cc2f"
      },
      "execution_count": null,
      "outputs": [
        {
          "output_type": "stream",
          "name": "stdout",
          "text": [
            "{40, 10, 20, 30}\n"
          ]
        }
      ]
    },
    {
      "cell_type": "code",
      "source": [
        "#7. clear(): to remove all the elements from the set\n",
        "s={1,2,3,4,5,6,7,(1,3,5,7)}\n",
        "print(s)\n",
        "s.clear()\n",
        "print(s)"
      ],
      "metadata": {
        "colab": {
          "base_uri": "https://localhost:8080/"
        },
        "id": "RXZ7zoHyS_vL",
        "outputId": "edefa84f-a519-45b3-ba02-02ea91f74638"
      },
      "execution_count": null,
      "outputs": [
        {
          "output_type": "stream",
          "name": "stdout",
          "text": [
            "{1, 2, 3, 4, 5, 6, 7, (1, 3, 5, 7)}\n",
            "set()\n"
          ]
        }
      ]
    },
    {
      "cell_type": "markdown",
      "source": [
        "# **IMPORTANT CONCEPTS**\n",
        "\n",
        "# Mathematical Operations on the Set:"
      ],
      "metadata": {
        "id": "-ooyhWY0TUDW"
      }
    },
    {
      "cell_type": "code",
      "source": [
        "#1. union(): \n",
        "# Syntax: x.union(y) OR x|y: Return all the elements present in both sets\n",
        "x={10,20,30,40}\n",
        "y={30,40,50,60}\n",
        "print(x.union(y))#{10,20,30,40,50,60}\n",
        "print (x|y)#{10, 20, 30, 40, 50, 60}\n"
      ],
      "metadata": {
        "colab": {
          "base_uri": "https://localhost:8080/"
        },
        "id": "U0uRtXGFTRoN",
        "outputId": "382d735f-07e2-4cdc-8ccd-509318002054"
      },
      "execution_count": null,
      "outputs": [
        {
          "output_type": "stream",
          "name": "stdout",
          "text": [
            "{40, 10, 50, 20, 60, 30}\n",
            "{40, 10, 50, 20, 60, 30}\n"
          ]
        }
      ]
    },
    {
      "cell_type": "code",
      "source": [
        "x1={1,2,3,4,5,6}\n",
        "y1={4,5,6,7,8,9}\n",
        "x1.update(y1)\n",
        "print(x1)"
      ],
      "metadata": {
        "colab": {
          "base_uri": "https://localhost:8080/"
        },
        "id": "ozUKEG9nQQMk",
        "outputId": "10c42fff-72db-4c26-8de9-07b84a0b5b96"
      },
      "execution_count": null,
      "outputs": [
        {
          "output_type": "stream",
          "name": "stdout",
          "text": [
            "{1, 2, 3, 4, 5, 6, 7, 8, 9}\n"
          ]
        }
      ]
    },
    {
      "cell_type": "code",
      "source": [
        "# 2. intersection():\n",
        "#Syntax: x.intersection(y) or x&y\n",
        "#Returns common elements present in both x and y\n",
        "x={10,20,30,40}\n",
        "y={30,40,50,60}\n",
        "print(x.intersection(y))#{40,30}\n",
        "print(x&y)#{40, 30}\n",
        "x &=y#{30,40}\n",
        "x"
      ],
      "metadata": {
        "colab": {
          "base_uri": "https://localhost:8080/"
        },
        "id": "vbP2j8S7UXIL",
        "outputId": "089b55be-e077-41b3-fdbc-a7aa391d4054"
      },
      "execution_count": null,
      "outputs": [
        {
          "output_type": "stream",
          "name": "stdout",
          "text": [
            "{40, 30}\n",
            "{40, 30}\n"
          ]
        },
        {
          "output_type": "execute_result",
          "data": {
            "text/plain": [
              "{30, 40}"
            ]
          },
          "metadata": {},
          "execution_count": 57
        }
      ]
    },
    {
      "cell_type": "code",
      "source": [
        "# 3. difference():\n",
        "# Syntax: x.difference(y) OR x-y.\n",
        "#Returns the elements present in x but not in y.\n",
        "x={10,20,30,40}\n",
        "y={30,40,50,60}\n",
        "print(x.difference(y))#10, 20\n",
        "print(x-y)#{10, 20}\n",
        "print(y-x)#{50, 60}\n",
        "x -= set((20,30))#{10,40}\n",
        "print(x)\n"
      ],
      "metadata": {
        "colab": {
          "base_uri": "https://localhost:8080/"
        },
        "id": "dgA23yClUvvr",
        "outputId": "a5c52e68-7596-464d-c25f-7310e3d5ffc1"
      },
      "execution_count": null,
      "outputs": [
        {
          "output_type": "stream",
          "name": "stdout",
          "text": [
            "{10, 20}\n",
            "{10, 20}\n",
            "{50, 60}\n",
            "{40, 10}\n"
          ]
        }
      ]
    },
    {
      "cell_type": "code",
      "source": [
        "#4. symmetric_difference():\n",
        "# x.symmetric_difference(y) OR x^y\n",
        "#Returns elements present in either x OR y but not in both.\n",
        "x={10,20,30,40}\n",
        "y={30,40,50,60}\n",
        "print(x.symmetric_difference(y))#{10,50,20,60}\n",
        "print(x^y)#{10, 50, 20, 60}"
      ],
      "metadata": {
        "colab": {
          "base_uri": "https://localhost:8080/"
        },
        "id": "jOiP2sePVExp",
        "outputId": "c5b04ba2-ba13-46fd-c2cb-dbd7c87fcd24"
      },
      "execution_count": null,
      "outputs": [
        {
          "output_type": "stream",
          "name": "stdout",
          "text": [
            "{10, 50, 20, 60}\n",
            "{10, 50, 20, 60}\n"
          ]
        }
      ]
    },
    {
      "cell_type": "code",
      "source": [
        "#5. isdisjoint()\n",
        "s1= {1,2 ,33,4}\n",
        "print(s.isdisjoint(s1))"
      ],
      "metadata": {
        "colab": {
          "base_uri": "https://localhost:8080/"
        },
        "id": "vQ8JJrTFGHPF",
        "outputId": "806d628c-18d4-4edf-f3ac-21fbb59e6c73"
      },
      "execution_count": null,
      "outputs": [
        {
          "output_type": "stream",
          "name": "stdout",
          "text": [
            "True\n"
          ]
        }
      ]
    },
    {
      "cell_type": "code",
      "source": [
        "#6 Frozen set\n",
        "# The frozenset datatype has all the methods of a set\n",
        "# (such as difference(),symmetrc_difference,and union)but because it is immutable\n",
        "#it doesen't have methods to add/remove elements.\n",
        "a=frozenset((1,2,3,4))\n",
        "b=frozenset((3,4,5,6))\n",
        "a.issubset(b)\n",
        "#a.update(b) # raises an error traceback(most receny call last)\n",
        "#AttributeError: 'frozenset' object has no attribut 'update'"
      ],
      "metadata": {
        "colab": {
          "base_uri": "https://localhost:8080/"
        },
        "id": "Chhi-V_kMHTL",
        "outputId": "d4629a17-25d0-48d4-829a-d6292b0dd408"
      },
      "execution_count": null,
      "outputs": [
        {
          "output_type": "execute_result",
          "data": {
            "text/plain": [
              "False"
            ]
          },
          "metadata": {},
          "execution_count": 39
        }
      ]
    },
    {
      "cell_type": "code",
      "source": [
        "a=frozenset((1,2,3,4))\n",
        "b=frozenset(('w','x','y','z'))\n",
        "d={a:\"hello\",b:\"world\"}\n",
        "d"
      ],
      "metadata": {
        "colab": {
          "base_uri": "https://localhost:8080/"
        },
        "id": "kKLhAb0oO27d",
        "outputId": "8e411eab-1e30-449b-de6b-131dfd100343"
      },
      "execution_count": null,
      "outputs": [
        {
          "output_type": "execute_result",
          "data": {
            "text/plain": [
              "{frozenset({1, 2, 3, 4}): 'hello', frozenset({'w', 'x', 'y', 'z'}): 'world'}"
            ]
          },
          "metadata": {},
          "execution_count": 40
        }
      ]
    },
    {
      "cell_type": "markdown",
      "source": [
        "# Membership Operators: (in, not in)"
      ],
      "metadata": {
        "id": "_WVAx3mtVs6s"
      }
    },
    {
      "cell_type": "code",
      "source": [
        "s=set(\"science\")\n",
        "print(s)\n",
        "print('e'in s)#in this example,the string 'science' has two 'e' and 'c' character and the set() removes\n",
        "              #each of theam\n",
        "print('d'in s)"
      ],
      "metadata": {
        "colab": {
          "base_uri": "https://localhost:8080/"
        },
        "id": "cG__6VLLVoHn",
        "outputId": "83e75a38-66b6-46a3-e32a-abaebfc1b660"
      },
      "execution_count": null,
      "outputs": [
        {
          "output_type": "stream",
          "name": "stdout",
          "text": [
            "{'n', 's', 'e', 'c', 'i'}\n",
            "True\n",
            "False\n"
          ]
        }
      ]
    },
    {
      "cell_type": "markdown",
      "source": [
        "# Set Comprehension:"
      ],
      "metadata": {
        "id": "sr9wbPBKV4t7"
      }
    },
    {
      "cell_type": "code",
      "source": [
        "#Set comprehension is possible.\n",
        "s = {x*x for x in range(8)}\n",
        "print(s)#{0,1,4,9,16}"
      ],
      "metadata": {
        "colab": {
          "base_uri": "https://localhost:8080/"
        },
        "id": "Fkfhjiv8V1rF",
        "outputId": "869dfaf4-ac79-43ec-ef15-45f51179ec5d"
      },
      "execution_count": null,
      "outputs": [
        {
          "output_type": "stream",
          "name": "stdout",
          "text": [
            "{0, 1, 4, 36, 9, 16, 49, 25}\n"
          ]
        }
      ]
    },
    {
      "cell_type": "markdown",
      "source": [
        "# Set Objects won't support indexing and slicing:\n"
      ],
      "metadata": {
        "id": "LYWoni5EWKx2"
      }
    },
    {
      "cell_type": "code",
      "source": [
        "s={10,20,30,40}\n",
        "print(s[0])# TypeError:'set'object does not support indexing\n",
        "print(s[1:3])# TypeError: 'set' object is not subscriptable"
      ],
      "metadata": {
        "colab": {
          "base_uri": "https://localhost:8080/",
          "height": 583
        },
        "id": "A6x6jLSgV_64",
        "outputId": "c3851e8a-76e5-48f7-e174-0b59985d9a9a"
      },
      "execution_count": null,
      "outputs": [
        {
          "output_type": "error",
          "ename": "TypeError",
          "evalue": "ignored",
          "traceback": [
            "\u001b[0;31m---------------------------------------------------------------------------\u001b[0m",
            "\u001b[0;31mTypeError\u001b[0m                                 Traceback (most recent call last)",
            "\u001b[0;32m<ipython-input-78-aa23fb34cb92>\u001b[0m in \u001b[0;36m<module>\u001b[0;34m()\u001b[0m\n\u001b[1;32m      1\u001b[0m \u001b[0ms\u001b[0m\u001b[0;34m=\u001b[0m\u001b[0;34m{\u001b[0m\u001b[0;36m10\u001b[0m\u001b[0;34m,\u001b[0m\u001b[0;36m20\u001b[0m\u001b[0;34m,\u001b[0m\u001b[0;36m30\u001b[0m\u001b[0;34m,\u001b[0m\u001b[0;36m40\u001b[0m\u001b[0;34m}\u001b[0m\u001b[0;34m\u001b[0m\u001b[0;34m\u001b[0m\u001b[0m\n\u001b[0;32m----> 2\u001b[0;31m \u001b[0mprint\u001b[0m\u001b[0;34m(\u001b[0m\u001b[0ms\u001b[0m\u001b[0;34m[\u001b[0m\u001b[0;36m0\u001b[0m\u001b[0;34m]\u001b[0m\u001b[0;34m)\u001b[0m\u001b[0;31m# TypeError:'set'object does not support indexing\u001b[0m\u001b[0;34m\u001b[0m\u001b[0;34m\u001b[0m\u001b[0m\n\u001b[0m\u001b[1;32m      3\u001b[0m \u001b[0mprint\u001b[0m\u001b[0;34m(\u001b[0m\u001b[0ms\u001b[0m\u001b[0;34m[\u001b[0m\u001b[0;36m1\u001b[0m\u001b[0;34m:\u001b[0m\u001b[0;36m3\u001b[0m\u001b[0;34m]\u001b[0m\u001b[0;34m)\u001b[0m\u001b[0;31m# TypeError: 'set' object is not subscriptable\u001b[0m\u001b[0;34m\u001b[0m\u001b[0;34m\u001b[0m\u001b[0m\n",
            "\u001b[0;31mTypeError\u001b[0m: 'set' object is not subscriptable"
          ]
        }
      ]
    },
    {
      "cell_type": "markdown",
      "source": [
        "# Homework\n",
        " Q) Write a Program to eliminate Duplicates Present in the\n",
        "  List?\n",
        "\n",
        "Q) Write a Program to Print different Vowels Present in the\n",
        "  given Word?(Using intersection method"
      ],
      "metadata": {
        "id": "59SlMSdwWZS7"
      }
    },
    {
      "cell_type": "code",
      "source": [
        "###Q 1)\n",
        "data1=[10,20,30,30,40,50,50,60,70]\n",
        "result=[]\n",
        "for i in data1:\n",
        "  if i not in result:\n",
        "    result.append(i)\n",
        "\n",
        "print(result)"
      ],
      "metadata": {
        "id": "0Srf6QQHWRSe",
        "colab": {
          "base_uri": "https://localhost:8080/"
        },
        "outputId": "09192a16-34ca-4112-b1e4-bb33a36031d7"
      },
      "execution_count": null,
      "outputs": [
        {
          "output_type": "stream",
          "name": "stdout",
          "text": [
            "[10, 20, 30, 40, 50, 60, 70]\n"
          ]
        }
      ]
    },
    {
      "cell_type": "markdown",
      "source": [
        "**Q**2)\n",
        "\n",
        " We can achieve this using 2different ways\n",
        "\n",
        " •1)Traversing each character in a given string and check whether a character is a vowel or not\n",
        "\n",
        " •2)We can achieve this functionality using one of the python set function-intersection()"
      ],
      "metadata": {
        "id": "5EJ-zyxUh9d4"
      }
    },
    {
      "cell_type": "code",
      "source": [
        "#Example 1\n",
        "#inptut\n",
        "'''vowels=['a','e','i','o','u']\n",
        "element=input(\"Enter any statement : \")\n",
        "list1=[]\n",
        "for x in element:\n",
        "  if (x in vowels and x not list1):\n",
        "    list1.append(x)\n",
        "print(\"vowels present in given statement : \",list1)'''\n",
        "\n",
        "\n",
        "#output\n",
        "'''Enter any statement : yeotiwad\n",
        "Vowels present in given statement:['e','o','i','a']'''"
      ],
      "metadata": {
        "id": "E1dyNjrFjjZu",
        "outputId": "d748f875-c1ec-45e3-fe1e-2fc92bde30c6",
        "colab": {
          "base_uri": "https://localhost:8080/",
          "height": 35
        }
      },
      "execution_count": null,
      "outputs": [
        {
          "output_type": "execute_result",
          "data": {
            "text/plain": [
              "\"Enter any statement : yeotiwad\\nVowels present in given statement:['e','o','i','a']\""
            ],
            "application/vnd.google.colaboratory.intrinsic+json": {
              "type": "string"
            }
          },
          "metadata": {},
          "execution_count": 107
        }
      ]
    },
    {
      "cell_type": "code",
      "source": [
        "#Example 2\n",
        "vowels=['a','e','i','o','u']\n",
        "element=input(\"Enter any statement : \")\n",
        "data=set(element)\n",
        "result=data.intersection(vowels)\n",
        "print(\"vowels present in given statent :\",result)"
      ],
      "metadata": {
        "id": "4hJSM52ynsRP",
        "outputId": "b8391518-ac63-43dd-83ac-a7f0e866bdc7",
        "colab": {
          "base_uri": "https://localhost:8080/"
        }
      },
      "execution_count": null,
      "outputs": [
        {
          "output_type": "stream",
          "name": "stdout",
          "text": [
            "Enter any statement : yeotiwad sushil\n",
            "vowels present in given statent : {'a', 'e', 'o', 'u', 'i'}\n"
          ]
        }
      ]
    },
    {
      "cell_type": "markdown",
      "source": [
        "***UTF-8***\n",
        "\n",
        "*This is specified in the meta tag\n",
        "\n",
        "*Unicode is a characterset, UTF-8 is encoding\n",
        "\n",
        "**Unicode is s list of characters with unique decimal number or code point.(A-Z),(0,9),(+,-,=,%)\n",
        "\n",
        "**(FOR EXAMPLE A=65,B=66,C=67)\n",
        "\n",
        "**This list of decimal numbers represent the string \"hello\";h:104 e:101 l:108 l:108 o:111\n",
        "\n",
        "**UTF-8 encoding will store \"hello\" like this(binary);h:01101000 e:01100101 l:01101100 l:01101100 e:01101111\n",
        "\n",
        "***ISO-8859-1 was the default character in HTML4.This charset suppoeted 256 different character coder.HTML4 supported UTF-8\n",
        "\n",
        "***(FOE EXAMPLE=A=65,B=66,C=67)\n",
        "\n",
        "***UTF-8 continues from the value 256 with more than 10000 different characters\n",
        "\n",
        "\n",
        "\n",
        "***Operators***\n",
        "\n",
        "     <!DOCTYPE html>\n",
        "\n",
        "     <html lang=\"en\">\n",
        "\n",
        "     <head>\n",
        "\n",
        "    <meta charset=\"utf-8\">\n",
        "\n",
        "    <meta name=\"viewpart\">\n",
        "     <content=\"width=device-width, initial-scale=1.0\">\n",
        "    <title>utf-8</title>\n",
        "\n",
        "     </head>\n",
        "\n",
        "     <body>\n",
        "\n",
        "    <p> i am learning computer language</p>\n",
        "\n",
        "    <p> मैं कंप्यूटर भाषा सीख रहा हूँ</p>\n",
        "\n",
        "    <p> నేను కంప్యూటర్ భాష నేర్చుకుంటున్నాను</p>\n",
        "    \n",
        "    <p>میں کیمپیوٹر کی زبان سیکھ رہا ہوں </p>\n",
        "\n",
        "     </body>\n",
        "\n",
        "     </html>"
      ],
      "metadata": {
        "id": "zfJTXt3j3uc0"
      }
    }
  ]
}