{
  "nbformat": 4,
  "nbformat_minor": 0,
  "metadata": {
    "colab": {
      "name": "Copy of Copy of 10_Python Basics_Functions.ipynb",
      "provenance": [],
      "include_colab_link": true
    },
    "kernelspec": {
      "name": "python3",
      "display_name": "Python 3"
    },
    "language_info": {
      "name": "python"
    }
  },
  "cells": [
    {
      "cell_type": "markdown",
      "metadata": {
        "id": "view-in-github",
        "colab_type": "text"
      },
      "source": [
        "<a href=\"https://colab.research.google.com/github/sushily1997/python_Basics/blob/main/10_Python_Basics_Functions.ipynb\" target=\"_parent\"><img src=\"https://colab.research.google.com/assets/colab-badge.svg\" alt=\"Open In Colab\"/></a>"
      ]
    },
    {
      "cell_type": "markdown",
      "source": [
        "# **Functions**\n",
        "\n",
        "֍ If a group of statements is repeatedly required then it is not recommended to write\n",
        "these statements everytime seperately.We have to define these statements as a single\n",
        "unit and we can call that unit any number of times based on our requirement without\n",
        "rewriting. This unit is nothing but function.\n",
        "\n",
        "֍ The main advantage of functions is code Reusability.\n",
        "\n",
        "֍ Python supports two types of functions:\n",
        "1. Built-in function\n",
        "2. User defined function\n",
        "\n",
        "1. Built in Functions:\n",
        "\n",
        "  The functions which are coming along with Python software automatically, are called\n",
        " built in functions or pre defined functions.\n",
        "\n",
        " e.g. id(), type(), input(),eval()\n",
        "\n",
        " 2. User defined function:\n",
        "\n",
        "  The functions which are developed by programmer explicitly according to business\n",
        " requirements, are called user defined functions.\n",
        "\n",
        " **Syntax:**\n",
        "\n",
        " def function_name(parameters):\n",
        "\n",
        "     ''' doc string'''\n",
        "\n",
        "     python code\n",
        "\n",
        "     return value\n",
        "\n",
        "    \n",
        "     \n",
        "\n"
      ],
      "metadata": {
        "id": "5qCfD1jRgVYu"
      }
    },
    {
      "cell_type": "code",
      "source": [
        "def wish():\n",
        "  print(\"Hello Good Morning\")\n",
        "  wish()"
      ],
      "metadata": {
        "id": "btoJYG3ohl0s"
      },
      "execution_count": null,
      "outputs": []
    },
    {
      "cell_type": "markdown",
      "source": [
        "# Parameters\n",
        "Parameters are inputs to the function. If a function contains parameters, then at the time\n",
        "of calling,compulsory we should provide values otherwise,otherwise we will get error.\n",
        "\n",
        "Eg: Write a function to take name of the student as input and print wish message by\n",
        "name.\n",
        "\n"
      ],
      "metadata": {
        "id": "MNJTnrryh-F0"
      }
    },
    {
      "cell_type": "code",
      "source": [
        "def ss(name):\n",
        "  print(\"Hello\",name,\" Good Morning\")"
      ],
      "metadata": {
        "id": "Ncgn3ImAiEQ8"
      },
      "execution_count": null,
      "outputs": []
    },
    {
      "cell_type": "code",
      "source": [
        "ss(\"jayesh\")"
      ],
      "metadata": {
        "colab": {
          "base_uri": "https://localhost:8080/"
        },
        "id": "VL3QTj8UiLT7",
        "outputId": "5473fbcd-1b9a-4576-b3d3-611083da9bf3"
      },
      "execution_count": null,
      "outputs": [
        {
          "output_type": "stream",
          "name": "stdout",
          "text": [
            "Hello jayesh  Good Morning\n"
          ]
        }
      ]
    },
    {
      "cell_type": "code",
      "source": [
        "# Eg: Write a function to take number as input and print its square value\n",
        "def sqt(number):\n",
        "  print(number*number)"
      ],
      "metadata": {
        "id": "l18docjliPea"
      },
      "execution_count": null,
      "outputs": []
    },
    {
      "cell_type": "code",
      "source": [
        "sqt(4.7)"
      ],
      "metadata": {
        "colab": {
          "base_uri": "https://localhost:8080/"
        },
        "id": "3MuhKiM9ic4r",
        "outputId": "15796518-6615-4086-804d-735679f1c185"
      },
      "execution_count": null,
      "outputs": [
        {
          "output_type": "stream",
          "name": "stdout",
          "text": [
            "22.090000000000003\n"
          ]
        }
      ]
    },
    {
      "cell_type": "code",
      "source": [
        "sqt(3+2)"
      ],
      "metadata": {
        "colab": {
          "base_uri": "https://localhost:8080/"
        },
        "id": "PjhLp6ek0I3u",
        "outputId": "df284809-e08b-4b11-d7b3-50d6e51b93cb"
      },
      "execution_count": null,
      "outputs": [
        {
          "output_type": "stream",
          "name": "stdout",
          "text": [
            "25\n"
          ]
        }
      ]
    },
    {
      "cell_type": "code",
      "source": [
        "sqt(23*6)"
      ],
      "metadata": {
        "colab": {
          "base_uri": "https://localhost:8080/"
        },
        "id": "lorXumqo0ZDx",
        "outputId": "ba2b4d85-2dd8-4331-f56a-45f836b39ffa"
      },
      "execution_count": null,
      "outputs": [
        {
          "output_type": "stream",
          "name": "stdout",
          "text": [
            "19044\n"
          ]
        }
      ]
    },
    {
      "cell_type": "markdown",
      "source": [
        "#  Return Statement:\n",
        "  Function can take input values as parameters and executes business logic, and returns\n",
        " output to the caller with return statement.\n",
        "\n",
        "  Q) Write a Function to accept 2 Numbers as Input and\n",
        "  return Sum"
      ],
      "metadata": {
        "id": "Ye3gNQIWijOO"
      }
    },
    {
      "cell_type": "code",
      "source": [
        "def add(a,b,d,e):\n",
        "    return a-b+d+e"
      ],
      "metadata": {
        "id": "6UGNSZ5jiffU"
      },
      "execution_count": null,
      "outputs": []
    },
    {
      "cell_type": "code",
      "source": [
        "add(6,7,6,9)"
      ],
      "metadata": {
        "colab": {
          "base_uri": "https://localhost:8080/"
        },
        "id": "gymUBO7hi2bd",
        "outputId": "94de0c24-342e-4060-9be8-555926902733"
      },
      "execution_count": null,
      "outputs": [
        {
          "output_type": "execute_result",
          "data": {
            "text/plain": [
              "14"
            ]
          },
          "metadata": {},
          "execution_count": 26
        }
      ]
    },
    {
      "cell_type": "code",
      "source": [
        "add(5,4,19,5)"
      ],
      "metadata": {
        "colab": {
          "base_uri": "https://localhost:8080/"
        },
        "id": "gK7IxCqZmBMg",
        "outputId": "e830ed11-076c-4e9d-f1ae-872fa8777380"
      },
      "execution_count": null,
      "outputs": [
        {
          "output_type": "execute_result",
          "data": {
            "text/plain": [
              "25"
            ]
          },
          "metadata": {},
          "execution_count": 28
        }
      ]
    },
    {
      "cell_type": "code",
      "source": [
        " \"\"\"Q) Write a Function to check whether the given Number is\n",
        "  Even OR Odd?\"\"\"\n",
        "\n",
        "def even_odd(n):\n",
        "   if n%2==0:\n",
        "     print(n,\"is Even Number\")\n",
        "   else:\n",
        "     print(n,\"is Odd Number\")"
      ],
      "metadata": {
        "id": "6eC_BefzmGKI"
      },
      "execution_count": null,
      "outputs": []
    },
    {
      "cell_type": "code",
      "source": [
        "even_odd(7)"
      ],
      "metadata": {
        "colab": {
          "base_uri": "https://localhost:8080/"
        },
        "id": "heJ9gsSotNf4",
        "outputId": "e92a8a98-18d3-4728-881a-0bdf8b1081e8"
      },
      "execution_count": null,
      "outputs": [
        {
          "output_type": "stream",
          "name": "stdout",
          "text": [
            "7 is Odd Number\n"
          ]
        }
      ]
    },
    {
      "cell_type": "code",
      "source": [
        "even_odd(6)"
      ],
      "metadata": {
        "colab": {
          "base_uri": "https://localhost:8080/"
        },
        "id": "4vw7Z93-20Ec",
        "outputId": "80cd40c7-7227-4f61-b130-cd6a1cb4fb2a"
      },
      "execution_count": null,
      "outputs": [
        {
          "output_type": "stream",
          "name": "stdout",
          "text": [
            "6 is Even Number\n"
          ]
        }
      ]
    },
    {
      "cell_type": "code",
      "source": [
        "even_odd(1379)"
      ],
      "metadata": {
        "colab": {
          "base_uri": "https://localhost:8080/"
        },
        "id": "UBzcijhX2_J1",
        "outputId": "b78da9d4-12ee-4d3f-8532-7ee14012052b"
      },
      "execution_count": null,
      "outputs": [
        {
          "output_type": "stream",
          "name": "stdout",
          "text": [
            "1379 is Odd Number\n"
          ]
        }
      ]
    },
    {
      "cell_type": "code",
      "source": [
        "\"Q) Write a Function to find Factorial of given Number?\"\n",
        "\n",
        "def fact(num):\n",
        "    result=1\n",
        "    while num>=1:\n",
        "      result=result*num\n",
        "      num=num-1\n",
        "    return result\n"
      ],
      "metadata": {
        "id": "NFLMRcEvtREG"
      },
      "execution_count": 2,
      "outputs": []
    },
    {
      "cell_type": "code",
      "source": [
        "for i in range(0,15):\n",
        "   print(\"The Factorial of\",i,\"is :\",fact(i))"
      ],
      "metadata": {
        "colab": {
          "base_uri": "https://localhost:8080/"
        },
        "id": "W7Sp4uAotk4_",
        "outputId": "95142098-c4cf-4b49-9b65-254fabd5810a"
      },
      "execution_count": 3,
      "outputs": [
        {
          "output_type": "stream",
          "name": "stdout",
          "text": [
            "The Factorial of 0 is : 1\n",
            "The Factorial of 1 is : 1\n",
            "The Factorial of 2 is : 2\n",
            "The Factorial of 3 is : 6\n",
            "The Factorial of 4 is : 24\n",
            "The Factorial of 5 is : 120\n",
            "The Factorial of 6 is : 720\n",
            "The Factorial of 7 is : 5040\n",
            "The Factorial of 8 is : 40320\n",
            "The Factorial of 9 is : 362880\n",
            "The Factorial of 10 is : 3628800\n",
            "The Factorial of 11 is : 39916800\n",
            "The Factorial of 12 is : 479001600\n",
            "The Factorial of 13 is : 6227020800\n",
            "The Factorial of 14 is : 87178291200\n"
          ]
        }
      ]
    },
    {
      "cell_type": "code",
      "source": [
        "for i in range(17,7,-1):\n",
        "  print(\"The Factorial of\",i,\"is:\",fact(i))"
      ],
      "metadata": {
        "colab": {
          "base_uri": "https://localhost:8080/"
        },
        "id": "jBfNrpO20oaR",
        "outputId": "d22c8e64-5f6a-4ec7-eb37-ef32dbadba6c"
      },
      "execution_count": 11,
      "outputs": [
        {
          "output_type": "stream",
          "name": "stdout",
          "text": [
            "The Factorial of 17 is: 355687428096000\n",
            "The Factorial of 16 is: 20922789888000\n",
            "The Factorial of 15 is: 1307674368000\n",
            "The Factorial of 14 is: 87178291200\n",
            "The Factorial of 13 is: 6227020800\n",
            "The Factorial of 12 is: 479001600\n",
            "The Factorial of 11 is: 39916800\n",
            "The Factorial of 10 is: 3628800\n",
            "The Factorial of 9 is: 362880\n",
            "The Factorial of 8 is: 40320\n"
          ]
        }
      ]
    },
    {
      "cell_type": "markdown",
      "source": [
        "\n",
        "# Returning Multiple Values from a Function:"
      ],
      "metadata": {
        "id": "fylfk9D_t00y"
      }
    },
    {
      "cell_type": "code",
      "source": [
        "def sum_sub(a,b,c):\n",
        "    sum=a+b-c\n",
        "    sub=a-b+c\n",
        "    return sum,sub"
      ],
      "metadata": {
        "id": "XRfwiPWutn3x"
      },
      "execution_count": null,
      "outputs": []
    },
    {
      "cell_type": "code",
      "source": [
        "x,y=sum_sub(100,50,27)\n",
        "print(\"The Value is:\",x)\n",
        "print(\"The Value is:\",y)"
      ],
      "metadata": {
        "colab": {
          "base_uri": "https://localhost:8080/"
        },
        "id": "zgTeyEGRt8r3",
        "outputId": "87b09de2-a79a-49ec-8a13-1515703ba644"
      },
      "execution_count": null,
      "outputs": [
        {
          "output_type": "stream",
          "name": "stdout",
          "text": [
            "The Value is: 123\n",
            "The Value is: 77\n"
          ]
        }
      ]
    },
    {
      "cell_type": "code",
      "source": [
        "sum_sub(10,24,50)"
      ],
      "metadata": {
        "colab": {
          "base_uri": "https://localhost:8080/"
        },
        "id": "gb651cgDuDJ6",
        "outputId": "411916f2-9645-4910-cff2-2ee5d58566f0"
      },
      "execution_count": null,
      "outputs": [
        {
          "output_type": "execute_result",
          "data": {
            "text/plain": [
              "(-16, 36)"
            ]
          },
          "metadata": {},
          "execution_count": 49
        }
      ]
    },
    {
      "cell_type": "markdown",
      "source": [
        "# Types of Arguments\n",
        "\n",
        " def f1(a,b):\n",
        "\n",
        "  \n",
        "\n",
        "-\n",
        "\n",
        "-\n",
        "\n",
        "f1(10,20)\n",
        "\n",
        "a, b are formal arguments where as 10,20 are actual arguments.\n",
        " "
      ],
      "metadata": {
        "id": "OtXfBuIDuY5M"
      }
    },
    {
      "cell_type": "markdown",
      "source": [
        " There are 4 types are actual arguments are allowed in Python.\n",
        "\n",
        "1. Positional Arguments\n",
        "2. Keyword Arguments\n",
        "3. Default Arguments\n",
        "4. Variable length arguments"
      ],
      "metadata": {
        "id": "wY4iOpGuu4mR"
      }
    },
    {
      "cell_type": "markdown",
      "source": [
        "## 1. Positional Arguments\n",
        "\n",
        " These are the arguments passed to function in correct positional order.\n",
        "\n",
        " def sub(a, b):\n",
        "\n",
        " print(a-b)\n",
        "\n",
        " sub(100, 200) \n",
        " \n",
        " sub(200, 100)\n",
        " \n",
        " The number of arguments and position of arguments must be matched. If we change\n",
        " the order then result may be changed.\n",
        " "
      ],
      "metadata": {
        "id": "g0dknDX8vDqT"
      }
    },
    {
      "cell_type": "code",
      "source": [
        "def add(a,b,c):\n",
        "  return(a+b+c)"
      ],
      "metadata": {
        "id": "_def9whV-hA8"
      },
      "execution_count": null,
      "outputs": []
    },
    {
      "cell_type": "code",
      "source": [
        "print(add(15,c=24,b=37))"
      ],
      "metadata": {
        "colab": {
          "base_uri": "https://localhost:8080/"
        },
        "id": "tLSTJ8Ns-voJ",
        "outputId": "6b2c4b7d-a6e7-43be-e663-e5f0e0154ce4"
      },
      "execution_count": null,
      "outputs": [
        {
          "output_type": "stream",
          "name": "stdout",
          "text": [
            "76\n"
          ]
        }
      ]
    },
    {
      "cell_type": "markdown",
      "source": [
        "## 2. Keyword Arguments:\n",
        "\n",
        "We can pass argument values by keyword i.e by parameter name."
      ],
      "metadata": {
        "id": "_akNZMBivW9Z"
      }
    },
    {
      "cell_type": "code",
      "source": [
        "def student(firstname,lastname):\n",
        "    print(\"Best\",firstname,lastname)"
      ],
      "metadata": {
        "id": "FJoVpFBquHDg"
      },
      "execution_count": null,
      "outputs": []
    },
    {
      "cell_type": "code",
      "source": [
        "student(firstname=\"python\",lastname=\"practice\")\n",
        "student(lastname=\"practice\",firstname=\"python\")"
      ],
      "metadata": {
        "colab": {
          "base_uri": "https://localhost:8080/"
        },
        "id": "iGaOtkRevmTl",
        "outputId": "8550ddf5-15df-4791-cbaf-1067c9a7ff57"
      },
      "execution_count": null,
      "outputs": [
        {
          "output_type": "stream",
          "name": "stdout",
          "text": [
            "Best python practice\n",
            "Best python practice\n"
          ]
        }
      ]
    },
    {
      "cell_type": "code",
      "source": [
        "#position changed. Still working\n",
        "student(lastname=\"practice\",firstname=\"Python Function\")"
      ],
      "metadata": {
        "colab": {
          "base_uri": "https://localhost:8080/"
        },
        "id": "2bAuFWcuvsOP",
        "outputId": "cf1a9080-1b39-4c18-cca4-9c2a9eb74c47"
      },
      "execution_count": null,
      "outputs": [
        {
          "output_type": "stream",
          "name": "stdout",
          "text": [
            "Best Python Function practice\n"
          ]
        }
      ]
    },
    {
      "cell_type": "code",
      "source": [
        "def details(id,name):\n",
        "  print(\"Emp id is:\",id)\n",
        "  print(\"Emp ne is:\",name)\n",
        "  "
      ],
      "metadata": {
        "id": "FV9Jf1QtIWfo"
      },
      "execution_count": null,
      "outputs": []
    },
    {
      "cell_type": "code",
      "source": [
        "details(id=1,name=\"Mayur\")\n",
        "details(id=2,name=\"varun\")"
      ],
      "metadata": {
        "colab": {
          "base_uri": "https://localhost:8080/"
        },
        "id": "NG89RCARIzFK",
        "outputId": "9a204d25-9f83-4d7c-85e4-ff8b9671d11e"
      },
      "execution_count": null,
      "outputs": [
        {
          "output_type": "stream",
          "name": "stdout",
          "text": [
            "Emp id is: 1\n",
            "Emp ne is: Mayur\n",
            "Emp id is: 2\n",
            "Emp ne is: varun\n"
          ]
        }
      ]
    },
    {
      "cell_type": "markdown",
      "source": [
        "# 3. Default Arguments:\n",
        "\n",
        "Sometimes we can provide default values for our positional arguments."
      ],
      "metadata": {
        "id": "Ui2LTfptwm7N"
      }
    },
    {
      "cell_type": "code",
      "source": [
        "def wish(name=\"Guest\"):\n",
        "    print(\"Hello\",name,\"Good Morning\")"
      ],
      "metadata": {
        "id": "2Evddd93wCyS"
      },
      "execution_count": null,
      "outputs": []
    },
    {
      "cell_type": "code",
      "source": [
        "wish(\"Satish\")"
      ],
      "metadata": {
        "colab": {
          "base_uri": "https://localhost:8080/"
        },
        "id": "Qs0zUekQwy0-",
        "outputId": "7f82ebbb-3b7b-4be1-8262-fb5fd18f6086"
      },
      "execution_count": null,
      "outputs": [
        {
          "output_type": "stream",
          "name": "stdout",
          "text": [
            "Hello Satish Good Morning\n"
          ]
        }
      ]
    },
    {
      "cell_type": "code",
      "source": [
        "wish()"
      ],
      "metadata": {
        "colab": {
          "base_uri": "https://localhost:8080/"
        },
        "id": "5L5pDpHFw1dd",
        "outputId": "d23a3add-248b-48cb-bfec-af9d5074be7d"
      },
      "execution_count": null,
      "outputs": [
        {
          "output_type": "stream",
          "name": "stdout",
          "text": [
            "Hello Guest Good Morning\n"
          ]
        }
      ]
    },
    {
      "cell_type": "code",
      "source": [
        "def greetings(name,msg=\"Welcom,Good Morning\"):\n",
        "  message= \"Hello {}!{}\".format(name,msg)\n",
        "  print(message)\n"
      ],
      "metadata": {
        "id": "zEwtfdGPBC7N"
      },
      "execution_count": null,
      "outputs": []
    },
    {
      "cell_type": "code",
      "source": [
        "greetings(\"Ravi\")"
      ],
      "metadata": {
        "colab": {
          "base_uri": "https://localhost:8080/"
        },
        "id": "hGJHvsVqCBdU",
        "outputId": "99154f4f-ffe4-497b-8e5d-1c8f8c7d3bd8"
      },
      "execution_count": null,
      "outputs": [
        {
          "output_type": "stream",
          "name": "stdout",
          "text": [
            "Hello Ravi!Welcom,Good Morning\n"
          ]
        }
      ]
    },
    {
      "cell_type": "code",
      "source": [
        "def cart(item,price=20):\n",
        "  print(item,\"cost is :\",price)\n"
      ],
      "metadata": {
        "id": "b25OVmm-Jkdd"
      },
      "execution_count": null,
      "outputs": []
    },
    {
      "cell_type": "code",
      "source": [
        "cart(item='book')\n",
        "cart(item='bag',price=1000)\n",
        "cart(price=550,item='pant')"
      ],
      "metadata": {
        "colab": {
          "base_uri": "https://localhost:8080/"
        },
        "id": "QUwB8jFfJ-kI",
        "outputId": "d35e507d-8f1c-4563-9265-d72fc7ea2e16"
      },
      "execution_count": null,
      "outputs": [
        {
          "output_type": "stream",
          "name": "stdout",
          "text": [
            "book cost is : 20\n",
            "bag cost is : 1000\n",
            "pant cost is : 550\n"
          ]
        }
      ]
    },
    {
      "cell_type": "markdown",
      "source": [
        "## 4. Variable Length Arguments:\n",
        "\n",
        "Sometimes we can pass variable number of arguments to our function, such type of\n",
        "arguments are called variable length arguments.\n",
        "\n",
        "We can declare a variable length argument with * symbol as follows\n",
        "\n",
        "def f1(*n):\n",
        "\n",
        "We can call this function by passing any number of arguments including zero number.\n",
        "\n",
        "Internally all these values represented in the form of tuple.\n"
      ],
      "metadata": {
        "id": "8bMYH5uDxiI4"
      }
    },
    {
      "cell_type": "code",
      "source": [
        "def sum(*n):\n",
        "    total=0\n",
        "    for n1 in n:\n",
        "      total=total+n1\n",
        "    print(\"The Sum=\",total)\n"
      ],
      "metadata": {
        "id": "g2BYznz3w8eU"
      },
      "execution_count": null,
      "outputs": []
    },
    {
      "cell_type": "code",
      "source": [
        "sum()"
      ],
      "metadata": {
        "colab": {
          "base_uri": "https://localhost:8080/"
        },
        "id": "01zhjXy_yNtp",
        "outputId": "36dca80e-cd0c-4502-f4c3-fddd1764f7d6"
      },
      "execution_count": null,
      "outputs": [
        {
          "output_type": "stream",
          "name": "stdout",
          "text": [
            "The Sum= 0\n"
          ]
        }
      ]
    },
    {
      "cell_type": "code",
      "source": [
        "sum(10)"
      ],
      "metadata": {
        "colab": {
          "base_uri": "https://localhost:8080/"
        },
        "id": "m4qlLppKyPzO",
        "outputId": "ef97749c-7b78-48fb-f936-fc7c6280373d"
      },
      "execution_count": null,
      "outputs": [
        {
          "output_type": "stream",
          "name": "stdout",
          "text": [
            "The Sum= 10\n"
          ]
        }
      ]
    },
    {
      "cell_type": "code",
      "source": [
        "sum(10,2,6,20)"
      ],
      "metadata": {
        "colab": {
          "base_uri": "https://localhost:8080/"
        },
        "id": "VsHrFJd6yTOD",
        "outputId": "50c5296b-b095-482a-c83d-a2e69f93846b"
      },
      "execution_count": null,
      "outputs": [
        {
          "output_type": "stream",
          "name": "stdout",
          "text": [
            "The Sum= 38\n"
          ]
        }
      ]
    },
    {
      "cell_type": "code",
      "source": [
        "sum(10,20,3.7,40)"
      ],
      "metadata": {
        "colab": {
          "base_uri": "https://localhost:8080/"
        },
        "id": "VmniuponyVqi",
        "outputId": "3bc928f8-8183-4b9e-b027-006008b0a05e"
      },
      "execution_count": null,
      "outputs": [
        {
          "output_type": "stream",
          "name": "stdout",
          "text": [
            "The Sum= 73.7\n"
          ]
        }
      ]
    },
    {
      "cell_type": "code",
      "source": [
        "# We can mix variable length arguments with positional arguments.\n",
        "\n",
        "def f1(a,b,c,*s):\n",
        "    print(a,b,c)\n",
        "    for s1 in s:\n",
        "      print(s1)"
      ],
      "metadata": {
        "id": "5bFrfcxvyXXg"
      },
      "execution_count": null,
      "outputs": []
    },
    {
      "cell_type": "code",
      "source": [
        "f1(1,3,40)"
      ],
      "metadata": {
        "colab": {
          "base_uri": "https://localhost:8080/"
        },
        "id": "_8zo78l8yjUQ",
        "outputId": "4c47312a-4453-425a-9f4c-133edbdc65ef"
      },
      "execution_count": null,
      "outputs": [
        {
          "output_type": "stream",
          "name": "stdout",
          "text": [
            "1 3 40\n"
          ]
        }
      ]
    },
    {
      "cell_type": "code",
      "source": [
        "f1(10,20,30,40)"
      ],
      "metadata": {
        "colab": {
          "base_uri": "https://localhost:8080/"
        },
        "id": "UVN7KPXMylYM",
        "outputId": "cffbe836-6a37-4a7a-d83a-b244b3392de7"
      },
      "execution_count": null,
      "outputs": [
        {
          "output_type": "stream",
          "name": "stdout",
          "text": [
            "10 20 30\n",
            "40\n"
          ]
        }
      ]
    },
    {
      "cell_type": "code",
      "source": [
        "f1(10,\"A\",30,\"B\")"
      ],
      "metadata": {
        "colab": {
          "base_uri": "https://localhost:8080/"
        },
        "id": "hL-veCuNyolZ",
        "outputId": "513ce8c7-9143-4761-8d07-b15a11492169"
      },
      "execution_count": null,
      "outputs": [
        {
          "output_type": "stream",
          "name": "stdout",
          "text": [
            "10 A 30\n",
            "B\n"
          ]
        }
      ]
    },
    {
      "cell_type": "markdown",
      "source": [
        " Note: After variable length argument,if we are taking any other arguments then we\n",
        "  should provide values as keyword arguments."
      ],
      "metadata": {
        "id": "CZ7pge1Cy-sH"
      }
    },
    {
      "cell_type": "code",
      "source": [
        "def f1(*s,n1):\n",
        "    for s1 in s:\n",
        "      print(s1)\n",
        "    print(n1)\n",
        "\n",
        "f1(\"A\",\"B\",10,20,n1=30)"
      ],
      "metadata": {
        "colab": {
          "base_uri": "https://localhost:8080/"
        },
        "id": "sAOle1-Byuwl",
        "outputId": "9624b849-273f-45e3-917d-4d0d25ed3d17"
      },
      "execution_count": null,
      "outputs": [
        {
          "output_type": "stream",
          "name": "stdout",
          "text": [
            "A\n",
            "B\n",
            "10\n",
            "20\n",
            "30\n"
          ]
        }
      ]
    },
    {
      "cell_type": "code",
      "source": [
        "f1(\"my\",\"name\",\"sushil\",n1=1997)"
      ],
      "metadata": {
        "colab": {
          "base_uri": "https://localhost:8080/"
        },
        "id": "7rdsyKmHFE36",
        "outputId": "ad5f99e5-b7cf-4f23-e024-a5869583a0e9"
      },
      "execution_count": null,
      "outputs": [
        {
          "output_type": "stream",
          "name": "stdout",
          "text": [
            "my\n",
            "name\n",
            "sushil\n",
            "1997\n"
          ]
        }
      ]
    },
    {
      "cell_type": "markdown",
      "source": [
        "### Note: We can declare key word variable length arguments also.\n",
        "\n",
        " We can call this function by passing any number of keyword arguments. Internally\n",
        " these keyword arguments will be stored inside a dictionary."
      ],
      "metadata": {
        "id": "mjGR3ekozVCy"
      }
    },
    {
      "cell_type": "code",
      "source": [
        "def display(**kwargs):\n",
        "    for k,v in kwargs.items():\n",
        "       print(k,\"=\",v)"
      ],
      "metadata": {
        "id": "pDJVARz1zKqX"
      },
      "execution_count": null,
      "outputs": []
    },
    {
      "cell_type": "code",
      "source": [
        "display(n1=10,n2=20,n3=30)"
      ],
      "metadata": {
        "colab": {
          "base_uri": "https://localhost:8080/"
        },
        "id": "gKco_4rlc65r",
        "outputId": "8e8575c1-f183-4983-beb4-dfd26873b829"
      },
      "execution_count": null,
      "outputs": [
        {
          "output_type": "stream",
          "name": "stdout",
          "text": [
            "n1 = 10\n",
            "n2 = 20\n",
            "n3 = 30\n"
          ]
        }
      ]
    },
    {
      "cell_type": "code",
      "source": [
        "display(Rno=100,name=\"Rahul\",marks=80,subject=\"python\")"
      ],
      "metadata": {
        "colab": {
          "base_uri": "https://localhost:8080/"
        },
        "id": "jwgW-nhddATp",
        "outputId": "5cc94d46-03ac-414a-e66e-f8856aecf1b9"
      },
      "execution_count": null,
      "outputs": [
        {
          "output_type": "stream",
          "name": "stdout",
          "text": [
            "Rno = 100\n",
            "name = Rahul\n",
            "marks = 80\n",
            "subject = python\n"
          ]
        }
      ]
    },
    {
      "cell_type": "code",
      "source": [
        "def print_kwargs(**kwargs):\n",
        "  print(kwargs)"
      ],
      "metadata": {
        "id": "hvC2Vtx8HdHX"
      },
      "execution_count": null,
      "outputs": []
    },
    {
      "cell_type": "code",
      "source": [
        "print_kwargs(id=1,name=\"umesh\",qualification=\"MBA\")"
      ],
      "metadata": {
        "colab": {
          "base_uri": "https://localhost:8080/"
        },
        "id": "S2YhSp7kL0WF",
        "outputId": "4ccb6acd-7e4f-4f5d-ea9e-11b97ce1a4a4"
      },
      "execution_count": null,
      "outputs": [
        {
          "output_type": "stream",
          "name": "stdout",
          "text": [
            "{'id': 1, 'name': 'umesh', 'qualification': 'MBA'}\n"
          ]
        }
      ]
    },
    {
      "cell_type": "code",
      "source": [
        ""
      ],
      "metadata": {
        "id": "8RxsLqvcH0y6"
      },
      "execution_count": null,
      "outputs": []
    },
    {
      "cell_type": "markdown",
      "source": [
        " ### Note: Function vs Module vs Library\n",
        "  A group of lines with some name is called a function\n",
        "\n",
        " A group of functions saved to a file, is called Module\n",
        " \n",
        " A group of Modules is nothing but Library"
      ],
      "metadata": {
        "id": "BOJkbIS7daBN"
      }
    },
    {
      "cell_type": "markdown",
      "source": [
        "#  Types of Variables\n",
        "  Python supports 2 types of variables.\n",
        "1. Global Variables\n",
        "2. Local Variables"
      ],
      "metadata": {
        "id": "bGTQ6drCdksh"
      }
    },
    {
      "cell_type": "code",
      "source": [
        "a=10 # global variable(defined outside the function)\n",
        "def f1():\n",
        "   print(a)\n",
        "\n",
        "def f2():\n",
        "    print(a)\n",
        "\n",
        "f1()\n",
        "f2()"
      ],
      "metadata": {
        "colab": {
          "base_uri": "https://localhost:8080/"
        },
        "id": "i4FnAETMdEiv",
        "outputId": "bbb19a07-0888-4d7b-e84e-3047788c9539"
      },
      "execution_count": null,
      "outputs": [
        {
          "output_type": "stream",
          "name": "stdout",
          "text": [
            "10\n",
            "10\n"
          ]
        }
      ]
    },
    {
      "cell_type": "code",
      "source": [
        ""
      ],
      "metadata": {
        "id": "fF1maydIOqa1"
      },
      "execution_count": null,
      "outputs": []
    },
    {
      "cell_type": "markdown",
      "source": [
        "2. Local Variables:\n",
        "\n",
        "  The variables which are declared inside a function are called local variables.\n",
        "\n",
        " Local variables are available only for the function in which we declared it.\n",
        " "
      ],
      "metadata": {
        "id": "GNimtvUMd8UB"
      }
    },
    {
      "cell_type": "code",
      "source": [
        "def f1():\n",
        "    a=10\n",
        "    print(a) # valid"
      ],
      "metadata": {
        "id": "i53CLKI0dySt"
      },
      "execution_count": null,
      "outputs": []
    },
    {
      "cell_type": "code",
      "source": [
        "f1()"
      ],
      "metadata": {
        "colab": {
          "base_uri": "https://localhost:8080/"
        },
        "id": "HJzNVLRqeL0K",
        "outputId": "99a97d66-ef4f-4f8d-8e8e-9e435b1be927"
      },
      "execution_count": null,
      "outputs": [
        {
          "output_type": "stream",
          "name": "stdout",
          "text": [
            "10\n"
          ]
        }
      ]
    },
    {
      "cell_type": "code",
      "source": [
        "# We didn't\n",
        "def f22():\n",
        "    b= \"I love india\"\n",
        "    print(b) #invalid\n",
        "\n",
        "f22()"
      ],
      "metadata": {
        "colab": {
          "base_uri": "https://localhost:8080/"
        },
        "id": "V0e_3-zqeNC3",
        "outputId": "1c85a7c5-2295-41c0-d8a1-3b4fda7cda60"
      },
      "execution_count": null,
      "outputs": [
        {
          "output_type": "stream",
          "name": "stdout",
          "text": [
            "I love india\n"
          ]
        }
      ]
    },
    {
      "cell_type": "code",
      "source": [
        "b=\"I love pune\"\n",
        "f22()\n",
        "print(b)"
      ],
      "metadata": {
        "colab": {
          "base_uri": "https://localhost:8080/"
        },
        "id": "I8_Ne8GmP9_c",
        "outputId": "a5b3e3c2-9756-49ba-9e4f-cbf6b1334f66"
      },
      "execution_count": null,
      "outputs": [
        {
          "output_type": "stream",
          "name": "stdout",
          "text": [
            "I love india\n",
            "I love pune\n"
          ]
        }
      ]
    },
    {
      "cell_type": "code",
      "source": [
        "\"\"\"Note: If global variable and local variable having the same name then we can access\n",
        "  global variable inside a function as follows\"\"\"\n",
        "\n",
        "a = 10#Global Variable\n",
        "def f1():\n",
        "    a=777 # Local Variable\n",
        "    print(a)\n",
        "    print(globals()['a'])\n",
        "f1()"
      ],
      "metadata": {
        "colab": {
          "base_uri": "https://localhost:8080/"
        },
        "id": "0tpOyTtveTxt",
        "outputId": "5470f81b-6219-4c2e-dd56-ba50934cff16"
      },
      "execution_count": null,
      "outputs": [
        {
          "output_type": "stream",
          "name": "stdout",
          "text": [
            "777\n",
            "10\n"
          ]
        }
      ]
    },
    {
      "cell_type": "code",
      "source": [
        "def foo(x,y):\n",
        "  global a\n",
        "  a=41\n",
        "  x,y=y,x\n",
        "  b=22\n",
        "  b=35\n",
        "  c=73\n",
        "  print(a,b,x,y)\n"
      ],
      "metadata": {
        "id": "2mcQ-bifQyxU"
      },
      "execution_count": null,
      "outputs": []
    },
    {
      "cell_type": "code",
      "source": [
        "a,b,x,y=1,15,3,4\n",
        "foo(17,4) \n",
        "print(a,b,x,y)\n"
      ],
      "metadata": {
        "colab": {
          "base_uri": "https://localhost:8080/"
        },
        "id": "eNWSAxYdR3yZ",
        "outputId": "920412dd-3b12-4d8e-ac28-fc9ae5d2d8ae"
      },
      "execution_count": null,
      "outputs": [
        {
          "output_type": "stream",
          "name": "stdout",
          "text": [
            "41 35 4 17\n",
            "41 15 3 4\n"
          ]
        }
      ]
    },
    {
      "cell_type": "markdown",
      "source": [
        "#  Recursive Function:\n",
        "\n",
        "A function that calls itself is known as Recursive Function.\n",
        "\n",
        "Main advantages of recursive functions are:\n",
        "1. \n",
        "We can reduce length of the code and improves readability.\n",
        "2. We can solve complex problems very easily.\n",
        "\n",
        "E.g.\n",
        "\n",
        " factorial(3) = 3 * factorial(2)\n",
        "\n",
        " = 3 * 2 * factorial(1)\n",
        "\n",
        " =3*2*1*factorial(0)\n",
        "\n",
        " =3*2*1*1\n",
        "\n",
        " =6\n",
        "\n",
        " factorial(n) = n * factorial(n-1)"
      ],
      "metadata": {
        "id": "Irs9Pti8ff6h"
      }
    },
    {
      "cell_type": "code",
      "source": [
        "'''Write a Python Function to find Factorial of given\n",
        "  Number with Recursion'''\n",
        "\n",
        "def factorial(n):\n",
        "    if n==0:\n",
        "      result=1\n",
        "    else:\n",
        "      result=n*factorial(n-1)\n",
        "    return result\n",
        "print(\"Factorial of 4 is:\",factorial(4))\n",
        "print(\"Factorial of 5 is:\",factorial(5))"
      ],
      "metadata": {
        "colab": {
          "base_uri": "https://localhost:8080/"
        },
        "id": "z_-dEqhVfxFo",
        "outputId": "a41948ea-9523-4280-9489-b55a35d99015"
      },
      "execution_count": null,
      "outputs": [
        {
          "output_type": "stream",
          "name": "stdout",
          "text": [
            "Factorial of 4 is: 24\n",
            "Factorial of 5 is: 120\n"
          ]
        }
      ]
    },
    {
      "cell_type": "code",
      "source": [
        "def factorial(x): #This is a recursive function to fond the factorial of an integer.\n",
        "  if x==1:\n",
        "    return 1\n",
        "  else:\n",
        "    return (x*factorial(x-1))\n",
        "num =3\n",
        "print(\"THE factorial of\" , num,\"is\",factorial(num))\n"
      ],
      "metadata": {
        "colab": {
          "base_uri": "https://localhost:8080/"
        },
        "id": "5m212jsgUdkQ",
        "outputId": "0087d3c7-4c51-4c75-8833-c2c30e6e1106"
      },
      "execution_count": null,
      "outputs": [
        {
          "output_type": "stream",
          "name": "stdout",
          "text": [
            "THE factorial of 3 is 6\n"
          ]
        }
      ]
    }
  ]
}