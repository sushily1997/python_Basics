{
  "nbformat": 4,
  "nbformat_minor": 0,
  "metadata": {
    "colab": {
      "name": "Copy of Copy of Copy of 9_Python_Basics_Dictionary.ipynb",
      "provenance": [],
      "include_colab_link": true
    },
    "kernelspec": {
      "name": "python3",
      "display_name": "Python 3"
    },
    "language_info": {
      "name": "python"
    }
  },
  "cells": [
    {
      "cell_type": "markdown",
      "metadata": {
        "id": "view-in-github",
        "colab_type": "text"
      },
      "source": [
        "<a href=\"https://colab.research.google.com/github/sushily1997/python_Basics/blob/main/9_Python_Basics_Dictionary.ipynb\" target=\"_parent\"><img src=\"https://colab.research.google.com/assets/colab-badge.svg\" alt=\"Open In Colab\"/></a>"
      ]
    },
    {
      "cell_type": "markdown",
      "source": [
        "# Dictionary Data Structure\n",
        "\n",
        "֍We can use List, Tuple and Set to represent a group of individual objects as a single entity\n",
        "\n",
        "֍ If we want to represent a group of objects as key-value pairs then we should go for Dictionary.\n",
        "\n",
        " rollno ---- name\n",
        "\n",
        " phone number -- address\n",
        "\n",
        " ipaddress --- domain name\n",
        " \n",
        "֍Duplicate keys are not allowed but values can be duplicated.\n",
        "\n",
        "֍Hetrogeneous objects are allowed for both key and values.\n",
        "\n",
        " ֍Insertion order is not preserved.\n",
        "\n",
        " ֍Dictionaries are mutable.\n",
        "\n",
        " ֍Dictionaries are dynamic.\n",
        "\n",
        " ֍Indexing and slicing concepts are not applicable."
      ],
      "metadata": {
        "id": "FtPHHfBmdHOd"
      }
    },
    {
      "cell_type": "markdown",
      "source": [
        "# How to create a Dictionary?\n",
        "#Homework inclding some operater"
      ],
      "metadata": {
        "id": "13i8X3VmdyHL"
      }
    },
    {
      "cell_type": "code",
      "source": [
        "# Creating a empty dictionary\n",
        "# Syntax: d={} OR d=dict()\n",
        "d={}\n",
        "d[100]=\"Rahul\"\n",
        "d[200]=\"Mahesh\"\n",
        "d[300]=\"ramesh\"\n",
        "d[300]=\"Ram\"\n",
        "print(d)"
      ],
      "metadata": {
        "colab": {
          "base_uri": "https://localhost:8080/"
        },
        "id": "k9r0TSDFd2wa",
        "outputId": "6ffb4c71-f69e-4dee-9b6f-94e8cee72304"
      },
      "execution_count": null,
      "outputs": [
        {
          "output_type": "stream",
          "name": "stdout",
          "text": [
            "{100: 'Rahul', 200: 'Mahesh', 300: 'Ram'}\n"
          ]
        }
      ]
    },
    {
      "cell_type": "code",
      "source": [
        "s={\"brand\":\"Ford\",\"model\":\"Mustang\",\"year\":1964}\n",
        "print(s)"
      ],
      "metadata": {
        "id": "oLsc8Z-iu3Aj",
        "outputId": "5df6633d-7ae8-471f-e3d0-d4beb4cc1612",
        "colab": {
          "base_uri": "https://localhost:8080/"
        }
      },
      "execution_count": null,
      "outputs": [
        {
          "output_type": "stream",
          "name": "stdout",
          "text": [
            "{'brand': 'Ford', 'model': 'Mustang', 'year': 1964}\n"
          ]
        }
      ]
    },
    {
      "cell_type": "code",
      "source": [
        "# If we know the values, we can directly create dict as follow:\n",
        "d = {100: 'Ram', 200: 'Sandeep', 300: 'Yogesh',400: 'om',500: 'manas'}\n",
        "print(d)"
      ],
      "metadata": {
        "colab": {
          "base_uri": "https://localhost:8080/"
        },
        "id": "ARuq4xb7eMPp",
        "outputId": "76f617a8-0ce9-4121-aab0-3325835a0d1f"
      },
      "execution_count": null,
      "outputs": [
        {
          "output_type": "stream",
          "name": "stdout",
          "text": [
            "{100: 'Ram', 200: 'Sandeep', 300: 'Yogesh', 400: 'om', 500: 'manas'}\n"
          ]
        }
      ]
    },
    {
      "cell_type": "markdown",
      "source": [
        "# How to access data from the dictionary?"
      ],
      "metadata": {
        "id": "36FI299Zeey8"
      }
    },
    {
      "cell_type": "code",
      "source": [
        "# We can access data by using keys.\n",
        "d = {100: 'Ram', 200: 'Sandeep', 300: 'Yogesh',400: 'om',500: 'manas'}\n",
        "d[400]"
      ],
      "metadata": {
        "colab": {
          "base_uri": "https://localhost:8080/",
          "height": 35
        },
        "id": "AIkUO2_cea1F",
        "outputId": "04796526-c109-427f-e8ec-dfb0a2312825"
      },
      "execution_count": null,
      "outputs": [
        {
          "output_type": "execute_result",
          "data": {
            "text/plain": [
              "'om'"
            ],
            "application/vnd.google.colaboratory.intrinsic+json": {
              "type": "string"
            }
          },
          "metadata": {},
          "execution_count": 12
        }
      ]
    },
    {
      "cell_type": "code",
      "source": [
        "#keys() method\n",
        "print(d)\n",
        "y=d.keys()\n",
        "print(y)"
      ],
      "metadata": {
        "colab": {
          "base_uri": "https://localhost:8080/"
        },
        "id": "zqfid_oA0pt2",
        "outputId": "108c4719-da77-4d49-e781-5748ef2c4502"
      },
      "execution_count": null,
      "outputs": [
        {
          "output_type": "stream",
          "name": "stdout",
          "text": [
            "{100: 'Ram', 200: 'Sandeep', 300: 'Yogesh', 400: 'om', 500: 'manas'}\n",
            "dict_keys([100, 200, 300, 400, 500])\n"
          ]
        }
      ]
    },
    {
      "cell_type": "code",
      "source": [
        "#There is also a method called get() that will give you the same result:\n",
        "x=d.get(200)\n",
        "print(x)"
      ],
      "metadata": {
        "colab": {
          "base_uri": "https://localhost:8080/"
        },
        "id": "QoLlSlOBzhwW",
        "outputId": "b1edf0af-452b-4033-ad4b-e1f7bb1179a7"
      },
      "execution_count": null,
      "outputs": [
        {
          "output_type": "stream",
          "name": "stdout",
          "text": [
            "Sandeep\n"
          ]
        }
      ]
    },
    {
      "cell_type": "code",
      "source": [
        "#Ordered or unordered\n",
        "#Changeble: Dictionaries cannot have tow items with the same key\n",
        "#Duplocate values will overwrite existing values\n",
        "s={\"brand\":\"Ford\",\"model\":\"Mustamg\",\"year\":1964,\"year\":2020}\n",
        "print(s)"
      ],
      "metadata": {
        "id": "SJu7ZYFlvseq",
        "outputId": "413227c0-4ba1-4f9e-bd54-397315de7868",
        "colab": {
          "base_uri": "https://localhost:8080/"
        }
      },
      "execution_count": 14,
      "outputs": [
        {
          "output_type": "stream",
          "name": "stdout",
          "text": [
            "{'brand': 'Ford', 'model': 'Mustamg', 'year': 2020}\n"
          ]
        }
      ]
    },
    {
      "cell_type": "code",
      "source": [
        "#copy \n",
        "print(s)\n",
        "s1=s.copy()\n",
        "print(s1)"
      ],
      "metadata": {
        "colab": {
          "base_uri": "https://localhost:8080/"
        },
        "id": "0-QX8Tg7JT0w",
        "outputId": "4c00dd5a-54aa-4fdd-d8dc-17b1d2faf2e3"
      },
      "execution_count": null,
      "outputs": [
        {
          "output_type": "stream",
          "name": "stdout",
          "text": [
            "{'brand': 'Ford', 'model': 'Mustamg', 'year': 2020}\n",
            "{'brand': 'Ford', 'model': 'Mustamg', 'year': 2020}\n"
          ]
        }
      ]
    },
    {
      "cell_type": "code",
      "source": [
        "#pop\n",
        "print(s)\n",
        "print(s.pop('brand'))\n",
        "print(s)"
      ],
      "metadata": {
        "colab": {
          "base_uri": "https://localhost:8080/"
        },
        "id": "-QFWSPBsLdcL",
        "outputId": "2777e3da-7677-452f-b89c-874a6127f745"
      },
      "execution_count": 18,
      "outputs": [
        {
          "output_type": "stream",
          "name": "stdout",
          "text": [
            "{'brand': 'Ford', 'model': 'Mustamg', 'year': 2020}\n",
            "Ford\n",
            "{'model': 'Mustamg', 'year': 2020}\n"
          ]
        }
      ]
    },
    {
      "cell_type": "markdown",
      "source": [
        "# How to Update Dictionaries?\n",
        "\n",
        "֍ syntax: d[key] = value\n",
        "\n",
        "֍ If the key is not available then a new entry will be added to the dictionary with the\n",
        "specified key-value pair.\n",
        "\n",
        "֍If the key is already available then old value will be replaced with new value.\n"
      ],
      "metadata": {
        "id": "a2I11N6wfJi5"
      }
    },
    {
      "cell_type": "code",
      "source": [
        "d = {100: 'Ram', 200: 'Sandeep', 300: 'Yogesh',400: 'om',500: 'manas'}\n",
        "print(d)\n",
        "d[400]=\"vinayak\"\n",
        "print(d)\n",
        "d[100]=\"amol\"\n",
        "print(d)\n",
        "d[500]=\"Manoj\"\n",
        "print(d)"
      ],
      "metadata": {
        "colab": {
          "base_uri": "https://localhost:8080/"
        },
        "id": "9K6nweKne4Dt",
        "outputId": "1dea2c8b-92da-466b-a185-cf6d6d5f4ee3"
      },
      "execution_count": null,
      "outputs": [
        {
          "output_type": "stream",
          "name": "stdout",
          "text": [
            "{100: 'Ram', 200: 'Sandeep', 300: 'Yogesh', 400: 'om', 500: 'manas'}\n",
            "{100: 'Ram', 200: 'Sandeep', 300: 'Yogesh', 400: 'vinayak', 500: 'manas'}\n",
            "{100: 'amol', 200: 'Sandeep', 300: 'Yogesh', 400: 'vinayak', 500: 'manas'}\n",
            "{100: 'amol', 200: 'Sandeep', 300: 'Yogesh', 400: 'vinayak', 500: 'Manoj'}\n"
          ]
        }
      ]
    },
    {
      "cell_type": "code",
      "source": [
        "# The values() method will return a list of all the values in the dictionary.\n",
        "print(d)\n",
        "x=d.values()\n",
        "print(x)"
      ],
      "metadata": {
        "colab": {
          "base_uri": "https://localhost:8080/"
        },
        "id": "GDIgHNjI1lYa",
        "outputId": "ea0ef12b-ac6c-4603-a7ae-0189bb63b4eb"
      },
      "execution_count": null,
      "outputs": [
        {
          "output_type": "stream",
          "name": "stdout",
          "text": [
            "{100: 'amol', 200: 'Sandeep', 300: 'Yogesh', 400: 'vinayak', 500: 'Manoj'}\n",
            "dict_values(['amol', 'Sandeep', 'Yogesh', 'vinayak', 'Manoj'])\n"
          ]
        }
      ]
    },
    {
      "cell_type": "markdown",
      "source": [
        "# How to Delete Elements from Dictionary?"
      ],
      "metadata": {
        "id": "kb9CYu19fywP"
      }
    },
    {
      "cell_type": "code",
      "source": [
        "#1. del d[key]\n",
        "# It deletes entry associated with the specified key.\n",
        "#If the key is not available then we will get KeyError.\n",
        "d = {100: 'Ram', 200: 'Sandeep', 300: 'Yogesh',400: 'om',500: 'manas'}\n",
        "print(d)\n",
        "del d[100]\n",
        "print(d)\n",
        "del d[400]\n",
        "print(d)\n",
        "del d[600]\n",
        "print(d)"
      ],
      "metadata": {
        "colab": {
          "base_uri": "https://localhost:8080/",
          "height": 683
        },
        "id": "WQvlpyqtft-3",
        "outputId": "7b9902e2-ae5b-4770-a9e3-3b5fc45803f1"
      },
      "execution_count": null,
      "outputs": [
        {
          "output_type": "stream",
          "name": "stdout",
          "text": [
            "{100: 'Ram', 200: 'Sandeep', 300: 'Yogesh', 400: 'om', 500: 'manas'}\n",
            "{200: 'Sandeep', 300: 'Yogesh', 400: 'om', 500: 'manas'}\n",
            "{200: 'Sandeep', 300: 'Yogesh', 500: 'manas'}\n"
          ]
        },
        {
          "output_type": "error",
          "ename": "KeyError",
          "evalue": "ignored",
          "traceback": [
            "\u001b[0;31m---------------------------------------------------------------------------\u001b[0m",
            "\u001b[0;31mKeyError\u001b[0m                                  Traceback (most recent call last)",
            "\u001b[0;32m<ipython-input-11-029ad2cdf1a5>\u001b[0m in \u001b[0;36m<module>\u001b[0;34m()\u001b[0m\n\u001b[1;32m      8\u001b[0m \u001b[0;32mdel\u001b[0m \u001b[0md\u001b[0m\u001b[0;34m[\u001b[0m\u001b[0;36m400\u001b[0m\u001b[0;34m]\u001b[0m\u001b[0;34m\u001b[0m\u001b[0;34m\u001b[0m\u001b[0m\n\u001b[1;32m      9\u001b[0m \u001b[0mprint\u001b[0m\u001b[0;34m(\u001b[0m\u001b[0md\u001b[0m\u001b[0;34m)\u001b[0m\u001b[0;34m\u001b[0m\u001b[0;34m\u001b[0m\u001b[0m\n\u001b[0;32m---> 10\u001b[0;31m \u001b[0;32mdel\u001b[0m \u001b[0md\u001b[0m\u001b[0;34m[\u001b[0m\u001b[0;36m600\u001b[0m\u001b[0;34m]\u001b[0m\u001b[0;34m\u001b[0m\u001b[0;34m\u001b[0m\u001b[0m\n\u001b[0m\u001b[1;32m     11\u001b[0m \u001b[0mprint\u001b[0m\u001b[0;34m(\u001b[0m\u001b[0md\u001b[0m\u001b[0;34m)\u001b[0m\u001b[0;34m\u001b[0m\u001b[0;34m\u001b[0m\u001b[0m\n",
            "\u001b[0;31mKeyError\u001b[0m: 600"
          ]
        }
      ]
    },
    {
      "cell_type": "code",
      "source": [
        "# 2. clear(): To remove all entries from the dictionary\n",
        "d = {100: 'Ram', 200: 'Sandeep', 300: 'Yogesh',400: 'om',500: 'manas'}\n",
        "print(d)\n",
        "d.clear()\n",
        "print(d)"
      ],
      "metadata": {
        "colab": {
          "base_uri": "https://localhost:8080/"
        },
        "id": "22aMhubGgHEN",
        "outputId": "338b5bea-623b-4b78-f627-7dbaeaa671bf"
      },
      "execution_count": null,
      "outputs": [
        {
          "output_type": "stream",
          "name": "stdout",
          "text": [
            "{100: 'Ram', 200: 'Sandeep', 300: 'Yogesh', 400: 'om', 500: 'manas'}\n",
            "{}\n"
          ]
        }
      ]
    },
    {
      "cell_type": "code",
      "source": [
        "# 3. del(): To delete total dict.\n",
        "d = {100:'Ram', 200:'Sandeep', 300:'Yogesh',400:'om',500:'manas'}\n",
        "print(d)\n",
        "del d\n",
        "print(d) # we have deleted the dict hence throwing error"
      ],
      "metadata": {
        "colab": {
          "base_uri": "https://localhost:8080/",
          "height": 603
        },
        "id": "JAW8efeQgaJT",
        "outputId": "2aa70a0c-cc77-4b0a-fe4e-2bff27a39f66"
      },
      "execution_count": null,
      "outputs": [
        {
          "output_type": "stream",
          "name": "stdout",
          "text": [
            "{100: 'Ram', 200: 'Sandeep', 300: 'Yogesh', 400: 'om', 500: 'manas'}\n"
          ]
        },
        {
          "output_type": "error",
          "ename": "NameError",
          "evalue": "ignored",
          "traceback": [
            "\u001b[0;31m---------------------------------------------------------------------------\u001b[0m",
            "\u001b[0;31mNameError\u001b[0m                                 Traceback (most recent call last)",
            "\u001b[0;32m<ipython-input-13-ca33e94715a4>\u001b[0m in \u001b[0;36m<module>\u001b[0;34m()\u001b[0m\n\u001b[1;32m      3\u001b[0m \u001b[0mprint\u001b[0m\u001b[0;34m(\u001b[0m\u001b[0md\u001b[0m\u001b[0;34m)\u001b[0m\u001b[0;34m\u001b[0m\u001b[0;34m\u001b[0m\u001b[0m\n\u001b[1;32m      4\u001b[0m \u001b[0;32mdel\u001b[0m \u001b[0md\u001b[0m\u001b[0;34m\u001b[0m\u001b[0;34m\u001b[0m\u001b[0m\n\u001b[0;32m----> 5\u001b[0;31m \u001b[0mprint\u001b[0m\u001b[0;34m(\u001b[0m\u001b[0md\u001b[0m\u001b[0;34m)\u001b[0m \u001b[0;31m# we have deleted the dict hence throwing error\u001b[0m\u001b[0;34m\u001b[0m\u001b[0;34m\u001b[0m\u001b[0m\n\u001b[0m",
            "\u001b[0;31mNameError\u001b[0m: name 'd' is not defined"
          ]
        }
      ]
    },
    {
      "cell_type": "markdown",
      "source": [
        "# Important Functions of Dictionary:"
      ],
      "metadata": {
        "id": "QnmvIa7ygv_y"
      }
    },
    {
      "cell_type": "code",
      "source": [
        "#1. dict(): to create a dict.\n",
        "d=dict()\n",
        "type(d)"
      ],
      "metadata": {
        "colab": {
          "base_uri": "https://localhost:8080/"
        },
        "id": "OeyLBlXYgk51",
        "outputId": "48c945f4-5d2c-4fa0-80e2-7f0a4de77ed3"
      },
      "execution_count": null,
      "outputs": [
        {
          "output_type": "execute_result",
          "data": {
            "text/plain": [
              "dict"
            ]
          },
          "metadata": {},
          "execution_count": 2
        }
      ]
    },
    {
      "cell_type": "code",
      "source": [
        "# How to add elemets inside dict function\n",
        "d = dict([(100,\"apple\"),(200,\"ball\"),(300,\"cat\"),(400,\"dog\"),(500,\"egg\")])\n",
        "d"
      ],
      "metadata": {
        "colab": {
          "base_uri": "https://localhost:8080/"
        },
        "id": "u7aOR0pZg4aU",
        "outputId": "ee286ab1-20a0-4cbe-84d3-72e67d8ca5e6"
      },
      "execution_count": null,
      "outputs": [
        {
          "output_type": "execute_result",
          "data": {
            "text/plain": [
              "{100: 'apple', 200: 'ball', 300: 'cat', 400: 'dog', 500: 'egg'}"
            ]
          },
          "metadata": {},
          "execution_count": 2
        }
      ]
    },
    {
      "cell_type": "code",
      "source": [
        "#2)Add new item to the otiginal dict\n",
        "x=d.values()\n",
        "print(d)\n",
        "d[600]= \"red\"\n",
        "print(x)"
      ],
      "metadata": {
        "colab": {
          "base_uri": "https://localhost:8080/"
        },
        "id": "NUIiXLLh26HM",
        "outputId": "92d8d3e8-72d1-43c8-c951-8723cdb30885"
      },
      "execution_count": null,
      "outputs": [
        {
          "output_type": "stream",
          "name": "stdout",
          "text": [
            "{100: 'apple', 200: 'ball', 300: 'cat', 400: 'dog', 500: 'egg'}\n",
            "dict_values(['apple', 'ball', 'cat', 'dog', 'egg', 'red'])\n"
          ]
        }
      ]
    },
    {
      "cell_type": "code",
      "source": [
        "#3)Get item: Get a list of the key:value pairs\n",
        "print(d)\n",
        "x=d.items()\n",
        "print(x)"
      ],
      "metadata": {
        "colab": {
          "base_uri": "https://localhost:8080/"
        },
        "id": "gJEbUQmp3ISB",
        "outputId": "59392775-5013-471d-c6f8-0ac18f6115c8"
      },
      "execution_count": null,
      "outputs": [
        {
          "output_type": "stream",
          "name": "stdout",
          "text": [
            "{100: 'apple', 200: 'ball', 300: 'cat', 400: 'dog', 500: 'egg', 600: 'red'}\n",
            "dict_items([(100, 'apple'), (200, 'ball'), (300, 'cat'), (400, 'dog'), (500, 'egg'), (600, 'red')])\n"
          ]
        }
      ]
    },
    {
      "cell_type": "code",
      "source": [
        "#4)len(): number of items in the dict\n",
        "len(d)"
      ],
      "metadata": {
        "colab": {
          "base_uri": "https://localhost:8080/"
        },
        "id": "Ahg01I78hB2J",
        "outputId": "62bda408-2f38-4f31-ba4b-4f505c1311aa"
      },
      "execution_count": null,
      "outputs": [
        {
          "output_type": "execute_result",
          "data": {
            "text/plain": [
              "6"
            ]
          },
          "metadata": {},
          "execution_count": 5
        }
      ]
    },
    {
      "cell_type": "code",
      "source": [
        "#5) get(): to get the value associated with the key\n",
        "'''  Syntax: d.get(key)\n",
        " If the key is available then returns the corresponding value otherwise returns None.It\n",
        " wont raise any error.'''\n",
        "d.get(100)\n",
        "print(d)\n",
        "d.get(400)"
      ],
      "metadata": {
        "colab": {
          "base_uri": "https://localhost:8080/",
          "height": 52
        },
        "id": "XtiH3mJohJav",
        "outputId": "110197eb-c15d-49ad-c6dd-04aebee51d31"
      },
      "execution_count": null,
      "outputs": [
        {
          "output_type": "stream",
          "name": "stdout",
          "text": [
            "{100: 'apple', 200: 'ball', 300: 'cat', 400: 'dog', 500: 'egg', 600: 'red'}\n"
          ]
        },
        {
          "output_type": "execute_result",
          "data": {
            "text/plain": [
              "'dog'"
            ],
            "application/vnd.google.colaboratory.intrinsic+json": {
              "type": "string"
            }
          },
          "metadata": {},
          "execution_count": 23
        }
      ]
    },
    {
      "cell_type": "code",
      "source": [
        "#6)Dict items - Data Type; The values in dictionary items can be of any data type\n",
        "#string,int,boolean,abd list data types:\n",
        "s={\"brand\":\"Ford\",\"electric\":False,\"year\":1964,\"colors\":['Red','white','blue']}\n",
        "print(type(s))"
      ],
      "metadata": {
        "id": "Woom7BJ6jO7z",
        "colab": {
          "base_uri": "https://localhost:8080/"
        },
        "outputId": "4e23c6eb-0a93-4fbc-a64a-793c6412345e"
      },
      "execution_count": 39,
      "outputs": [
        {
          "output_type": "stream",
          "name": "stdout",
          "text": [
            "<class 'dict'>\n"
          ]
        }
      ]
    },
    {
      "cell_type": "code",
      "source": [
        "#7)Check if key Exists; To determine if a specified key is present in a dictionary  use\n",
        "#the  in keyword:\n",
        "print(s)\n",
        "if \"year\" in s:\n",
        "  print(\"Yes, 'year' is one of the keys in the s dictionary\")"
      ],
      "metadata": {
        "id": "7RzS2NyJhbG-",
        "colab": {
          "base_uri": "https://localhost:8080/"
        },
        "outputId": "4e9b4471-504a-4e57-c26e-cebd512a8929"
      },
      "execution_count": 34,
      "outputs": [
        {
          "output_type": "stream",
          "name": "stdout",
          "text": [
            "{'brand': 'Ford', 'electric': False, 'year': 1964, 'colors': ['Red', 'white', 'blue']}\n",
            "Yes, 'year' is one of the keys in the s dictionary\n"
          ]
        }
      ]
    },
    {
      "cell_type": "markdown",
      "source": [
        "***PEP 8-** **Full form-:Python Enhancement Proposal **\n",
        "\n",
        "*PEP 8, sometimes spelled PEP8 or PEP-8, is       a document that provides guidelines and best  practices on how to write Python code. It was written in 2001 by Guido van Rossum, Barry Warsaw, and Nick Coghlan. The primary focus of PEP 8 is to improve the readability and consistency of Python code.\n",
        "\n",
        "***PEP 8 : Coding Style guide in Python**\n",
        "\n",
        "1) Use 4-space indentation and no tabs.\n",
        "\n",
        "2) Use docstrings\n",
        "\n",
        "3) Wrap lines so that they don’t exceed 79 characters \n",
        "\n",
        "4) Use of regular and updated comments are valuable to both the coders and users\n",
        "\n",
        "5)Use of trailing commas : This is not mandatory except while making a tuple.\n",
        "Example:\n",
        "\n",
        "tup = (\"geek\",)\n",
        "\n",
        "5)Use Python’s default UTF-8 or ASCII encodings and not any fancy encodings,\n",
        "\n",
        "6) Use spaces around operators and after commas, but not directly inside bracketing constructs\n",
        "\n",
        "7) Naming Conventions\n",
        "\n",
        "\n",
        "*The PEP 8 is an abbreviation form of Python Enterprise Proposal.\n",
        "\n",
        "*Naming Convention\n",
        "When we write the code, we need to assign name to many things such as variables, functions, classes, packages, and a lot more things.\n",
        "\n",
        "Example -\n",
        "\n",
        "*Single lowercase letter\n",
        "\n",
        "a = 10 \n",
        "\n",
        "*Single upper case letter\n",
        "\n",
        "A = 10  \n",
        "\n",
        "**Lowercase\n",
        "\n",
        "var = 10 \n",
        "\n",
        "*Lower_case_with_underscores\n",
        "\n",
        "*number_of_apple = 5 \n",
        "\n",
        "**UPPERCASE\n",
        "\n",
        "\n",
        "VAR = 6  \n",
        "\n",
        "*UPPER_CASE_WITH_UNDERSCORES\n",
        "\n",
        "*NUM_OF_CARS =20  \n",
        "\n",
        "*CapitalizedWords (or CamelCase)\n",
        "\n",
        "*NumberOfBooks = 100  \n",
        "\n",
        "\n",
        "\n",
        "Python provides a coding style known as PEP 8. PEP refers to Python Enhancement Proposals and is one of the most readable and eye-pleasing coding styles. Since it is used by many projects all across the world, programmers should familiarize themselves with it.\n",
        "\n",
        "\n",
        "8.) Indentation\n",
        "\n",
        "\n",
        "Indentation is one of the most significant features for enhancing code readability. Indentation helps users to separate loops, conditions, and to select case statements to visualize what is going on in a particular piece of code. Many IDEs provide auto-indentation.\n",
        "\n",
        "9.) Blank lines\n",
        "\n",
        "\n",
        "Adding blank lines as part of your code makes it easier to separate print statements or any two parts of code. This enhances the readability of the code.\n",
        "\n",
        "10.) Comments\n",
        "\n",
        "\n",
        "Comments about any piece of code, line, loop, or condition can be summarized in a line or two. These comments help newcomers, who are looking at the code for the first time, to easily understand it. Moreover, as mentioned above, it might be difficult for a person to understand something he/she wrote awhile ago. In this case, comments will help you recall why you used a specific logic or function.\n",
        "\n",
        "11.) Encoding\n",
        "\n",
        "\n",
        "Encoding is basically converting any information in a particular form. As a user, you should try to do most of your coding in Utf-8. Python, by default, is a language that uses Utf-8, which is a good, accepted practice."
      ],
      "metadata": {
        "id": "tz7LcbGkjRsy"
      }
    }
  ]
}