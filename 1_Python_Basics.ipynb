{
  "nbformat": 4,
  "nbformat_minor": 0,
  "metadata": {
    "colab": {
      "name": "1_Python_Basics.ipynb",
      "provenance": [],
      "include_colab_link": true
    },
    "kernelspec": {
      "name": "python3",
      "display_name": "Python 3"
    },
    "language_info": {
      "name": "python"
    }
  },
  "cells": [
    {
      "cell_type": "markdown",
      "metadata": {
        "id": "view-in-github",
        "colab_type": "text"
      },
      "source": [
        "<a href=\"https://colab.research.google.com/github/sushily1997/python_Basics/blob/main/1_Python_Basics.ipynb\" target=\"_parent\"><img src=\"https://colab.research.google.com/assets/colab-badge.svg\" alt=\"Open In Colab\"/></a>"
      ]
    },
    {
      "cell_type": "markdown",
      "source": [
        "# **Python**"
      ],
      "metadata": {
        "id": "6wJfEirSA5Xi"
      }
    },
    {
      "cell_type": "markdown",
      "source": [
        "Python is a general purpose high level programming language.\n",
        "\n",
        " Python was developed by Guido Van Rossam in 1989 while working at National\n",
        "Research Institute at Netherlands.\n",
        "\n",
        " But officially Python was made available to public in 1991. The official Date of Birth for\n",
        "\n",
        "Python is : Feb 20th 1991.\n",
        "\n",
        " Python is recommended as first programming language for beginners."
      ],
      "metadata": {
        "id": "ab0Y0UF19IjG"
      }
    },
    {
      "cell_type": "markdown",
      "source": [
        "Eg1: To print Helloworld"
      ],
      "metadata": {
        "id": "5vhq639f9Wpr"
      }
    },
    {
      "cell_type": "code",
      "source": [
        "print(\"Hello world\")"
      ],
      "metadata": {
        "colab": {
          "base_uri": "https://localhost:8080/"
        },
        "id": "rahaDFrgNrjm",
        "outputId": "97dfc9b6-8c9f-440e-c38e-a6db45c7a5e9"
      },
      "execution_count": null,
      "outputs": [
        {
          "output_type": "stream",
          "name": "stdout",
          "text": [
            "Hello world\n"
          ]
        }
      ]
    },
    {
      "cell_type": "code",
      "source": [
        "Java:\n",
        "public class HelloWorld\n",
        "{\n",
        "p s v main(String[] args)\n",
        "{\n",
        "SOP(\"Hello world\");\n",
        "}\n",
        "}\n",
        "\n",
        "\n",
        "C:\n",
        "#include<stdio.h>\n",
        "void main()\n",
        "{\n",
        "print(\"Hello world\");\n",
        "}\n",
        "\n",
        "Python:\n",
        "print(\"Hello World\")"
      ],
      "metadata": {
        "id": "znHu_F-R9MFU"
      },
      "execution_count": null,
      "outputs": []
    },
    {
      "cell_type": "markdown",
      "source": [
        "Where we can use Python:\n",
        "We can use everywhere. The most common important application areas are\n",
        "\n",
        "1) For developing Desktop Applications\n",
        "\n",
        "2) For developing web Applications\n",
        "\n",
        "3) For developing database Applications\n",
        "\n",
        "4) For Network Programming\n",
        "\n",
        "5) For developing games\n",
        "\n",
        "6) For Data Analysis Applications\n",
        "\n",
        "7) For Machine Learning\n",
        "\n",
        "8) For developing Artificial Intelligence Applications\n",
        "\n",
        "\n",
        "9) For IoT"
      ],
      "metadata": {
        "id": "sD9w9U8a-DJR"
      }
    },
    {
      "cell_type": "markdown",
      "source": [
        "# Variables"
      ],
      "metadata": {
        "id": "9rO0sAaH_JZP"
      }
    },
    {
      "cell_type": "markdown",
      "metadata": {
        "id": "gW5YEnarJbPO"
      },
      "source": [
        "###  VARIABLES are entities which help us store information and retrieve it later. \n",
        "\n",
        " * A variable with a fixed name can store information of nature like numeric, textual, boolean etc.\n",
        " \n",
        " \n",
        " * A Python variable is a reserved memory location to store values. In other words, a variable in a python program gives data to the computer for processing.\n",
        " \n",
        " \n",
        " * The type of data contained in a variable can be changed at user's will. "
      ]
    },
    {
      "cell_type": "code",
      "metadata": {
        "id": "GMzBISF_JbPO"
      },
      "source": [
        "# You can store numbers in variables.\n",
        "# The standard rule is you write the variable name followed by = sign and the value it will take\n",
        "\n",
        "x=150"
      ],
      "execution_count": null,
      "outputs": []
    },
    {
      "cell_type": "code",
      "metadata": {
        "id": "sfHKamM3JbPR",
        "colab": {
          "base_uri": "https://localhost:8080/"
        },
        "outputId": "5e1ffe55-6271-441f-f407-c204f0b70b11"
      },
      "source": [
        "print(x)"
      ],
      "execution_count": null,
      "outputs": [
        {
          "output_type": "stream",
          "name": "stdout",
          "text": [
            "150\n"
          ]
        }
      ]
    },
    {
      "cell_type": "code",
      "metadata": {
        "id": "UedV9GDlJbPU",
        "colab": {
          "base_uri": "https://localhost:8080/"
        },
        "outputId": "043c6dd3-e182-4c68-d478-131c83e0f4d1"
      },
      "source": [
        "y=199.999\n",
        "y"
      ],
      "execution_count": null,
      "outputs": [
        {
          "output_type": "execute_result",
          "data": {
            "text/plain": [
              "199.999"
            ]
          },
          "metadata": {},
          "execution_count": 4
        }
      ]
    },
    {
      "cell_type": "code",
      "metadata": {
        "id": "OcUpyTY2Z4Fn",
        "colab": {
          "base_uri": "https://localhost:8080/"
        },
        "outputId": "75c86a3d-5b4d-4cb0-d48b-f47bbe526c6d"
      },
      "source": [
        "print(y)"
      ],
      "execution_count": null,
      "outputs": [
        {
          "output_type": "stream",
          "name": "stdout",
          "text": [
            "199.999\n"
          ]
        }
      ]
    },
    {
      "cell_type": "code",
      "source": [
        "cash$ = 20"
      ],
      "metadata": {
        "id": "uwGVtLvtAXpX"
      },
      "execution_count": null,
      "outputs": []
    },
    {
      "cell_type": "markdown",
      "source": [
        "## Rules to define Identifiers/variables in Python:\n",
        "\n",
        "1. The only allowed characters in Python are\n",
        "\n",
        " alphabet symbols(either lower case or upper case)\n",
        "\n",
        " digits(0 to 9)\n",
        "\n",
        " underscore symbol(_)\n",
        "\n",
        " By mistake if we are using any other symbol like $ then we will get syntax error.\n",
        "\n",
        " cash = 10 √\n",
        "\n",
        " ca$h =20 #wrong syntax\n",
        "\n",
        " 2. Identifier should not starts with digit\n",
        "\n",
        " 123total #wrong syntax\n",
        "\n",
        " total123 √\n",
        "\n",
        " 3. Identifiers are case sensitive. Of course Python language is case sensitive language.\n",
        "\n",
        " total=10\n",
        "\n",
        " TOTAL=999\n",
        "\n",
        " print(total) #10\n",
        "\n",
        " print(TOTAL) #999"
      ],
      "metadata": {
        "id": "4BUaXomdBI1T"
      }
    },
    {
      "cell_type": "markdown",
      "source": [
        "Identifier/Variable:\n",
        "\n",
        "1) Alphabet Symbols (Either Upper case OR Lower case)\n",
        "\n",
        "2) If Identifier is start with Underscore (_) then it indicates it is private.\n",
        "\n",
        "3) Identifier should not start with Digits.\n",
        "\n",
        "4) Identifiers are case sensitive.\n",
        "\n",
        "5) We cannot use reserved words as identifiers\n",
        " Eg: def = 10 #wrong\n",
        "\n",
        "6) There is no length limit for Python identifiers. But not recommended to use too lengthy identifiers.\n",
        "\n",
        "7) Dollor ($) Symbol is not allowed in Python.\n",
        "\n",
        "8) We can not use reserved words as variable names or identifiers."
      ],
      "metadata": {
        "id": "xpfNTaZyB2Bc"
      }
    },
    {
      "cell_type": "code",
      "source": [
        "def1 = 10.5\n",
        "manoj =50\n",
        "manoj=60"
      ],
      "metadata": {
        "id": "jHCFMfjUBThf"
      },
      "execution_count": null,
      "outputs": []
    },
    {
      "cell_type": "code",
      "source": [
        "as = 10"
      ],
      "metadata": {
        "colab": {
          "base_uri": "https://localhost:8080/",
          "height": 132
        },
        "id": "2KFuYMfRB54R",
        "outputId": "4a606508-6312-4812-f4d0-734cc8c2f2e4"
      },
      "execution_count": null,
      "outputs": [
        {
          "output_type": "error",
          "ename": "SyntaxError",
          "evalue": "ignored",
          "traceback": [
            "\u001b[0;36m  File \u001b[0;32m\"<ipython-input-8-fc157850ff90>\"\u001b[0;36m, line \u001b[0;32m1\u001b[0m\n\u001b[0;31m    as = 10\u001b[0m\n\u001b[0m     ^\u001b[0m\n\u001b[0;31mSyntaxError\u001b[0m\u001b[0;31m:\u001b[0m invalid syntax\n"
          ]
        }
      ]
    },
    {
      "cell_type": "code",
      "source": [
        "# We can not use reserved words as variable names or identifiers.\n",
        "import keyword\n",
        "keyword.kwlist"
      ],
      "metadata": {
        "colab": {
          "base_uri": "https://localhost:8080/"
        },
        "id": "DkOJQ8p1_Iev",
        "outputId": "e6a620e2-2034-4d26-ff97-71ea778b75b1"
      },
      "execution_count": null,
      "outputs": [
        {
          "output_type": "execute_result",
          "data": {
            "text/plain": [
              "['False',\n",
              " 'None',\n",
              " 'True',\n",
              " 'and',\n",
              " 'as',\n",
              " 'assert',\n",
              " 'async',\n",
              " 'await',\n",
              " 'break',\n",
              " 'class',\n",
              " 'continue',\n",
              " 'def',\n",
              " 'del',\n",
              " 'elif',\n",
              " 'else',\n",
              " 'except',\n",
              " 'finally',\n",
              " 'for',\n",
              " 'from',\n",
              " 'global',\n",
              " 'if',\n",
              " 'import',\n",
              " 'in',\n",
              " 'is',\n",
              " 'lambda',\n",
              " 'nonlocal',\n",
              " 'not',\n",
              " 'or',\n",
              " 'pass',\n",
              " 'raise',\n",
              " 'return',\n",
              " 'try',\n",
              " 'while',\n",
              " 'with',\n",
              " 'yield']"
            ]
          },
          "metadata": {},
          "execution_count": 6
        }
      ]
    },
    {
      "cell_type": "markdown",
      "source": [
        "# **Data Types**"
      ],
      "metadata": {
        "id": "n0mU0muEDwlS"
      }
    },
    {
      "cell_type": "markdown",
      "source": [
        "Data Type represents the type of data present inside a variable.\n",
        "\n",
        "Python contains the following inbuilt data types:\n",
        "\n",
        "1) Int\n",
        "2) Float\n",
        "3) Complex\n",
        "4) Bool\n",
        "5) Str\n",
        "6) Bytes\n",
        "7) Bytearray\n",
        "8) Range\n",
        "9) List\n",
        "10) Tuple\n",
        "11) Set\n",
        "12) Frozenset\n",
        "13) Dict\n",
        "14) None"
      ],
      "metadata": {
        "id": "WEb2dYQwD6NT"
      }
    },
    {
      "cell_type": "code",
      "source": [
        "#1) type()\n",
        "#to check the type of variable\n",
        "y=13\n",
        "print(type(y))\n",
        "\n",
        "#2)id()\n",
        "#to get address of object\n",
        "id(y)"
      ],
      "metadata": {
        "colab": {
          "base_uri": "https://localhost:8080/"
        },
        "id": "4L2tpC14_HIe",
        "outputId": "51a270cf-fbf1-465b-e72a-3d56f756df01"
      },
      "execution_count": null,
      "outputs": [
        {
          "output_type": "stream",
          "name": "stdout",
          "text": [
            "<class 'int'>\n"
          ]
        },
        {
          "output_type": "execute_result",
          "data": {
            "text/plain": [
              "94347496323968"
            ]
          },
          "metadata": {},
          "execution_count": 8
        }
      ]
    },
    {
      "cell_type": "code",
      "source": [
        "#both variables are saved to save location\n",
        "a=1\n",
        "b=1\n",
        "\n",
        "#a=b\n",
        "print(id(a))\n",
        "print(id(b))"
      ],
      "metadata": {
        "colab": {
          "base_uri": "https://localhost:8080/"
        },
        "id": "VJiYgXCCXXVc",
        "outputId": "b1f41ae0-60ea-476b-e1e2-4176c61fe57e"
      },
      "execution_count": null,
      "outputs": [
        {
          "output_type": "stream",
          "name": "stdout",
          "text": [
            "94040740526592\n",
            "94040740526592\n"
          ]
        }
      ]
    },
    {
      "cell_type": "markdown",
      "source": [
        "## 3) Int(Integer) Data Type:"
      ],
      "metadata": {
        "id": "BZOf-McrF21z"
      }
    },
    {
      "cell_type": "code",
      "source": [
        "#We can use int data type to represent whole numbers (integral values)\n",
        "a=15\n",
        "print(type(a))"
      ],
      "metadata": {
        "colab": {
          "base_uri": "https://localhost:8080/"
        },
        "id": "t2u6c1V0FZ7U",
        "outputId": "d35871ec-8a4a-42bc-88a6-44b533392de2"
      },
      "execution_count": null,
      "outputs": [
        {
          "output_type": "stream",
          "name": "stdout",
          "text": [
            "<class 'int'>\n"
          ]
        }
      ]
    },
    {
      "cell_type": "markdown",
      "source": [
        "## 2) Float Data Type:"
      ],
      "metadata": {
        "id": "R5xnOZRnGQ2P"
      }
    },
    {
      "cell_type": "code",
      "source": [
        "#We can use float data type to represent floating point values (decimal values)\n",
        "f = 1.234\n",
        "print(type(f)) #float\n",
        "#We can also represent floating point values by using exponential form\n",
        "#(Scientific Notation)\n",
        "f = 1.2e3 # instead of 'e' we can use 'E'\n",
        "print(f) # 1200.0 \n",
        "j = int(f)\n",
        "j"
      ],
      "metadata": {
        "colab": {
          "base_uri": "https://localhost:8080/"
        },
        "id": "3hJG8OEBGHB4",
        "outputId": "ca7ccc5e-2ac6-4e49-cd9e-a209e8e3a832"
      },
      "execution_count": null,
      "outputs": [
        {
          "output_type": "stream",
          "name": "stdout",
          "text": [
            "<class 'float'>\n",
            "1200.0\n"
          ]
        },
        {
          "output_type": "execute_result",
          "data": {
            "text/plain": [
              "1200"
            ]
          },
          "metadata": {},
          "execution_count": 18
        }
      ]
    },
    {
      "cell_type": "markdown",
      "source": [
        "## 3) Complex Data Type:"
      ],
      "metadata": {
        "id": "oYIJb7Q2TATx"
      }
    },
    {
      "cell_type": "markdown",
      "source": [
        "![image.png](data:image/png;base64,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)"
      ],
      "metadata": {
        "id": "b2J_BDA4TOEU"
      }
    },
    {
      "cell_type": "markdown",
      "source": [
        "In the real part if we use int value then we can specify that either by decimal, octal, binary or hexa decimal form.\n",
        "\n",
        "But imaginary part should be specified only by using decimal form"
      ],
      "metadata": {
        "id": "g_EwwqfcTbam"
      }
    },
    {
      "cell_type": "code",
      "source": [
        "a = 3 +5j\n",
        "a"
      ],
      "metadata": {
        "colab": {
          "base_uri": "https://localhost:8080/"
        },
        "id": "HjbiZ8IwSb_X",
        "outputId": "b839efe4-fcac-4bbe-a1c4-6fc40ce985d3"
      },
      "execution_count": null,
      "outputs": [
        {
          "output_type": "execute_result",
          "data": {
            "text/plain": [
              "(3+5j)"
            ]
          },
          "metadata": {},
          "execution_count": 13
        }
      ]
    },
    {
      "cell_type": "code",
      "source": [
        "#Operations on complex numbers\n",
        "#We can use complex type generally in scientific Applications and electrical engineering Applications.\n",
        "a=10+1.5j\n",
        "b=20+2.5j\n",
        "c=a+b\n",
        "print(c) "
      ],
      "metadata": {
        "colab": {
          "base_uri": "https://localhost:8080/"
        },
        "id": "6kutyQHXTncN",
        "outputId": "f7df1390-59db-4cb2-c4f7-d5967d1699ed"
      },
      "execution_count": null,
      "outputs": [
        {
          "output_type": "stream",
          "name": "stdout",
          "text": [
            "(30+4j)\n"
          ]
        }
      ]
    },
    {
      "cell_type": "markdown",
      "source": [
        "## 4)bool Data Type:"
      ],
      "metadata": {
        "id": "AYjO0U6_UQN9"
      }
    },
    {
      "cell_type": "markdown",
      "source": [
        "We can use this data type to represent boolean values.\n",
        "\n",
        " The only allowed values for this data type are:\n",
        "\n",
        " True and False\n",
        "\n",
        " Internally Python represents True as 1 and False as 0\n",
        "\n",
        " b = True\n",
        " type(b) # bool"
      ],
      "metadata": {
        "id": "BSlOO4zoUYTO"
      }
    },
    {
      "cell_type": "code",
      "source": [
        "#Eg:\n",
        "a = 10\n",
        "b = 20\n",
        "c = a<b\n",
        "print(c) # True"
      ],
      "metadata": {
        "colab": {
          "base_uri": "https://localhost:8080/"
        },
        "id": "BZAfQWmzT9ao",
        "outputId": "1aa6249e-83fe-4ad1-c25d-32c694dfb3a1"
      },
      "execution_count": null,
      "outputs": [
        {
          "output_type": "stream",
          "name": "stdout",
          "text": [
            "True\n"
          ]
        }
      ]
    },
    {
      "cell_type": "code",
      "source": [
        "True + True"
      ],
      "metadata": {
        "colab": {
          "base_uri": "https://localhost:8080/"
        },
        "id": "3iHeL6rNUpZt",
        "outputId": "af7b3fcc-f8c8-434b-ec29-a0975e854b84"
      },
      "execution_count": null,
      "outputs": [
        {
          "output_type": "execute_result",
          "data": {
            "text/plain": [
              "2"
            ]
          },
          "metadata": {},
          "execution_count": 40
        }
      ]
    },
    {
      "cell_type": "code",
      "source": [
        "True-False"
      ],
      "metadata": {
        "colab": {
          "base_uri": "https://localhost:8080/"
        },
        "id": "DtST9kiQUt4b",
        "outputId": "c0b78fa8-1c07-4ace-e866-cc7058691e04"
      },
      "execution_count": null,
      "outputs": [
        {
          "output_type": "execute_result",
          "data": {
            "text/plain": [
              "1"
            ]
          },
          "metadata": {},
          "execution_count": 41
        }
      ]
    },
    {
      "cell_type": "markdown",
      "source": [
        "# 5) string(str) Data Type\n",
        "\n",
        "A String is a sequence of characters enclosed within single quotes or double\n",
        "quotes."
      ],
      "metadata": {
        "id": "bwoFl3XKU342"
      }
    },
    {
      "cell_type": "code",
      "source": [
        "a1 = \"Artificial Intelligence\"\n",
        "print(type(a1))\n",
        "a2 = 2\n",
        "print(type(a2))"
      ],
      "metadata": {
        "colab": {
          "base_uri": "https://localhost:8080/"
        },
        "id": "5YfOUjWkUx5x",
        "outputId": "07560c49-c391-47db-901c-94180655e61c"
      },
      "execution_count": null,
      "outputs": [
        {
          "output_type": "stream",
          "name": "stdout",
          "text": [
            "<class 'str'>\n",
            "<class 'int'>\n"
          ]
        }
      ]
    },
    {
      "cell_type": "code",
      "source": [
        "#multi line string literals\n",
        "a2 = \"\"\"Artificial \n",
        "      Intelligence\"\"\"\n",
        "a2"
      ],
      "metadata": {
        "colab": {
          "base_uri": "https://localhost:8080/",
          "height": 35
        },
        "id": "n9CkWMWqVQ6x",
        "outputId": "75f633a7-94a9-475b-bddc-501fad6cce6c"
      },
      "execution_count": null,
      "outputs": [
        {
          "output_type": "execute_result",
          "data": {
            "text/plain": [
              "'Artificial \\n      Intelligence'"
            ],
            "application/vnd.google.colaboratory.intrinsic+json": {
              "type": "string"
            }
          },
          "metadata": {},
          "execution_count": 21
        }
      ]
    },
    {
      "cell_type": "markdown",
      "source": [
        "### Slicing of string\n",
        "\n",
        "slice means a piece\n",
        "\n",
        "2) [ ] operator is called slice operator, which can be used to retrieve parts of String.\n",
        "\n",
        "3) In Python Strings follows zero based index.\n",
        "\n",
        "4) The index can be either +ve or -ve.\n",
        "\n",
        "5) +ve index means forward direction from Left to Right\n",
        "\n",
        "6) -ve index means backward direction from Right to Left"
      ],
      "metadata": {
        "id": "EWHqF_rmV1Ry"
      }
    },
    {
      "cell_type": "code",
      "source": [
        "a= \"Python\" "
      ],
      "metadata": {
        "id": "PJ9ovfZKaYO1"
      },
      "execution_count": null,
      "outputs": []
    },
    {
      "cell_type": "code",
      "source": [
        "a1 = \"Artificial Intelligence \"\n",
        "print(a1[-3])\n",
        "type(a1) #Type of a1 variable is string"
      ],
      "metadata": {
        "colab": {
          "base_uri": "https://localhost:8080/"
        },
        "id": "Na_ftheLVden",
        "outputId": "3c07cf65-9c9b-4f08-ddc4-a1f4fc63800e"
      },
      "execution_count": null,
      "outputs": [
        {
          "output_type": "stream",
          "name": "stdout",
          "text": [
            "n\n"
          ]
        },
        {
          "output_type": "execute_result",
          "data": {
            "text/plain": [
              "str"
            ]
          },
          "metadata": {},
          "execution_count": 25
        }
      ]
    },
    {
      "cell_type": "code",
      "source": [
        "a1[-1].  "
      ],
      "metadata": {
        "colab": {
          "base_uri": "https://localhost:8080/",
          "height": 35
        },
        "id": "SN_Ox3HTWFn5",
        "outputId": "0749db42-e0a6-486f-d70c-b08bfd16194b"
      },
      "execution_count": null,
      "outputs": [
        {
          "output_type": "execute_result",
          "data": {
            "text/plain": [
              "'e'"
            ],
            "application/vnd.google.colaboratory.intrinsic+json": {
              "type": "string"
            }
          },
          "metadata": {},
          "execution_count": 24
        }
      ]
    },
    {
      "cell_type": "code",
      "source": [
        "a1[3:4]"
      ],
      "metadata": {
        "colab": {
          "base_uri": "https://localhost:8080/",
          "height": 35
        },
        "id": "9Q2OdnguWJKo",
        "outputId": "2b73ae44-ea11-493a-fffe-0dacc7be8d83"
      },
      "execution_count": null,
      "outputs": [
        {
          "output_type": "execute_result",
          "data": {
            "text/plain": [
              "'i'"
            ],
            "application/vnd.google.colaboratory.intrinsic+json": {
              "type": "string"
            }
          },
          "metadata": {},
          "execution_count": 28
        }
      ]
    },
    {
      "cell_type": "code",
      "source": [
        "# Extract first four letters\n",
        "a1[:4]"
      ],
      "metadata": {
        "colab": {
          "base_uri": "https://localhost:8080/",
          "height": 35
        },
        "id": "6xF3_y9EWSOY",
        "outputId": "d8b71cad-8d79-4976-ae2a-62d15fe39f9b"
      },
      "execution_count": null,
      "outputs": [
        {
          "output_type": "execute_result",
          "data": {
            "text/plain": [
              "'Arti'"
            ],
            "application/vnd.google.colaboratory.intrinsic+json": {
              "type": "string"
            }
          },
          "metadata": {},
          "execution_count": 26
        }
      ]
    },
    {
      "cell_type": "code",
      "source": [
        "#Extract all the letters\n",
        "a1[:]"
      ],
      "metadata": {
        "colab": {
          "base_uri": "https://localhost:8080/",
          "height": 35
        },
        "id": "zn8_Xi97WX7a",
        "outputId": "6d9a7520-5c26-46e9-a6be-f7540e12e95f"
      },
      "execution_count": null,
      "outputs": [
        {
          "output_type": "execute_result",
          "data": {
            "text/plain": [
              "'Artificial Intelligence'"
            ],
            "application/vnd.google.colaboratory.intrinsic+json": {
              "type": "string"
            }
          },
          "metadata": {},
          "execution_count": 27
        }
      ]
    },
    {
      "cell_type": "code",
      "source": [
        "# Find the length of the string\n",
        "a1 = \" Artificial Intelligence \"\n",
        "\n",
        "a1[0]"
      ],
      "metadata": {
        "colab": {
          "base_uri": "https://localhost:8080/",
          "height": 35
        },
        "id": "mXVu0gbPWhUZ",
        "outputId": "efc270c0-6675-49ff-fbd9-8c152ca909fa"
      },
      "execution_count": null,
      "outputs": [
        {
          "output_type": "execute_result",
          "data": {
            "text/plain": [
              "' '"
            ],
            "application/vnd.google.colaboratory.intrinsic+json": {
              "type": "string"
            }
          },
          "metadata": {},
          "execution_count": 31
        }
      ]
    },
    {
      "cell_type": "code",
      "source": [
        "\n",
        "m=20\n",
        "n=10\n",
        "float(m*n)"
      ],
      "metadata": {
        "colab": {
          "base_uri": "https://localhost:8080/"
        },
        "id": "guKFMwxbWn1F",
        "outputId": "dfb35f40-044a-439b-8c7f-49aae8ab5e69"
      },
      "execution_count": null,
      "outputs": [
        {
          "output_type": "execute_result",
          "data": {
            "text/plain": [
              "200.0"
            ]
          },
          "metadata": {},
          "execution_count": 36
        }
      ]
    },
    {
      "cell_type": "code",
      "source": [],
      "metadata": {
        "id": "EZSJSF8wGyvQ"
      },
      "execution_count": null,
      "outputs": []
    }
  ]
}