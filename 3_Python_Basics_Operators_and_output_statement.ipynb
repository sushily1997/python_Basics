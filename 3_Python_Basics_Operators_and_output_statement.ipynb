{
  "nbformat": 4,
  "nbformat_minor": 0,
  "metadata": {
    "colab": {
      "name": "3_Python_Basics_Operators_and_output_statement.ipynb",
      "provenance": [],
      "include_colab_link": true
    },
    "kernelspec": {
      "name": "python3",
      "display_name": "Python 3"
    },
    "language_info": {
      "name": "python"
    }
  },
  "cells": [
    {
      "cell_type": "markdown",
      "metadata": {
        "id": "view-in-github",
        "colab_type": "text"
      },
      "source": [
        "<a href=\"https://colab.research.google.com/github/sushily1997/python_Basics/blob/main/3_Python_Basics_Operators_and_output_statement.ipynb\" target=\"_parent\"><img src=\"https://colab.research.google.com/assets/colab-badge.svg\" alt=\"Open In Colab\"/></a>"
      ]
    },
    {
      "cell_type": "markdown",
      "source": [
        "# Operators\n",
        "\n",
        "Operator is a symbol that performs certain operations.\n",
        "\n",
        " Python provides the following set of operators\n",
        "\n",
        "1) Arithmetic Operators\n",
        "\n",
        "2) Relational Operators OR Comparison Operators\n",
        "\n",
        "3) Logical operators\n",
        "\n",
        "4) Bitwise oeprators\n",
        "\n",
        "5) Assignment operators\n",
        "\n",
        "6) Special operators"
      ],
      "metadata": {
        "id": "frtVJUqeRLpU"
      }
    },
    {
      "cell_type": "markdown",
      "source": [
        "1) Arithmetic Operators:\n",
        "\n",
        " Addition: +\n",
        "\n",
        " Subtraction: -\n",
        "\n",
        " Multiplication: *\n",
        "\n",
        " Division Operator: /\n",
        "\n",
        " Modulo Operator: %\n",
        "\n",
        " Floor Division Operator: //\n",
        "\n",
        " Exponent Operator OR Power Operator: **\n",
        "\n"
      ],
      "metadata": {
        "id": "HNS_DDVNRhNp"
      }
    },
    {
      "cell_type": "code",
      "source": [
        "a=15\n",
        "b=2\n",
        "print('a+b=',a+b)\n",
        "print('a-b=',a-b)\n",
        "print('a*b=',a*b)\n",
        "print('a/b=',a/b)\n",
        "print('a//b=',a//b)\n",
        "print('a%b=',a%b)\n",
        "print('a**b=',a**b)"
      ],
      "metadata": {
        "colab": {
          "base_uri": "https://localhost:8080/"
        },
        "id": "RgpGjwVeRNHl",
        "outputId": "a2b348ef-485b-467d-d746-442984e87a14"
      },
      "execution_count": null,
      "outputs": [
        {
          "output_type": "stream",
          "name": "stdout",
          "text": [
            "a+b= 17\n",
            "a-b= 13\n",
            "a*b= 30\n",
            "a/b= 7.5\n",
            "a//b= 7\n",
            "a%b= 1\n",
            "a**b= 225\n"
          ]
        }
      ]
    },
    {
      "cell_type": "markdown",
      "source": [
        "2) Relational Operators: >, >=, <, <=\n"
      ],
      "metadata": {
        "id": "1NTwf-lsSv4M"
      }
    },
    {
      "cell_type": "code",
      "source": [
        "a=10\n",
        "b=20\n",
        "print(\"a > b is \",a>b)\n",
        "print(\"a >= b is \",a>=b)\n",
        "print(\"a < b is \",a<b)\n",
        "print(\"a <= b is \",a<=b)\n",
        "\n",
        "a > b #is False\n",
        "a >= b #is False\n",
        "a < b #is True\n",
        "a <= b #is True"
      ],
      "metadata": {
        "colab": {
          "base_uri": "https://localhost:8080/"
        },
        "id": "ofDbSz4iSUYL",
        "outputId": "a59d8faf-a66e-4335-98a8-c9536dee12db"
      },
      "execution_count": null,
      "outputs": [
        {
          "output_type": "stream",
          "name": "stdout",
          "text": [
            "a > b is  False\n",
            "a >= b is  False\n",
            "a < b is  True\n",
            "a <= b is  True\n"
          ]
        },
        {
          "output_type": "execute_result",
          "data": {
            "text/plain": [
              "True"
            ]
          },
          "metadata": {},
          "execution_count": 2
        }
      ]
    },
    {
      "cell_type": "markdown",
      "source": [
        "3) Equality Operators: ==, !=\n",
        "\n",
        "We can apply these operators for any type even for incompatible types also."
      ],
      "metadata": {
        "id": "KUsBj6tfTKsy"
      }
    },
    {
      "cell_type": "code",
      "source": [
        "10==20 #False"
      ],
      "metadata": {
        "colab": {
          "base_uri": "https://localhost:8080/"
        },
        "id": "ULmGA6mWS_sF",
        "outputId": "d93311bf-9673-41bc-ce26-5dd35310895f"
      },
      "execution_count": null,
      "outputs": [
        {
          "output_type": "execute_result",
          "data": {
            "text/plain": [
              "False"
            ]
          },
          "metadata": {},
          "execution_count": 6
        }
      ]
    },
    {
      "cell_type": "code",
      "source": [
        "10!= 20"
      ],
      "metadata": {
        "colab": {
          "base_uri": "https://localhost:8080/"
        },
        "id": "j4yMjMfZTXZi",
        "outputId": "362a74f7-16d5-47c1-e12c-7083c2b44659"
      },
      "execution_count": null,
      "outputs": [
        {
          "output_type": "execute_result",
          "data": {
            "text/plain": [
              "True"
            ]
          },
          "metadata": {},
          "execution_count": 5
        }
      ]
    },
    {
      "cell_type": "code",
      "source": [
        "10==True"
      ],
      "metadata": {
        "colab": {
          "base_uri": "https://localhost:8080/"
        },
        "id": "Y6ML0XwgTXcO",
        "outputId": "b0ac08cd-d94c-4994-ff65-171c2c29c07d"
      },
      "execution_count": null,
      "outputs": [
        {
          "output_type": "execute_result",
          "data": {
            "text/plain": [
              "False"
            ]
          },
          "metadata": {},
          "execution_count": 4
        }
      ]
    },
    {
      "cell_type": "code",
      "source": [
        "False==False"
      ],
      "metadata": {
        "colab": {
          "base_uri": "https://localhost:8080/"
        },
        "id": "O-ZcqidyTbd2",
        "outputId": "f221cd6d-ce53-452e-a38c-0b7554a9662c"
      },
      "execution_count": null,
      "outputs": [
        {
          "output_type": "execute_result",
          "data": {
            "text/plain": [
              "True"
            ]
          },
          "metadata": {},
          "execution_count": 3
        }
      ]
    },
    {
      "cell_type": "code",
      "source": [
        "10==10==10==10 "
      ],
      "metadata": {
        "colab": {
          "base_uri": "https://localhost:8080/"
        },
        "id": "TYIgOcfETkV8",
        "outputId": "5c2e08e4-3d98-49fb-cc80-01d42225b0b7"
      },
      "execution_count": null,
      "outputs": [
        {
          "output_type": "execute_result",
          "data": {
            "text/plain": [
              "True"
            ]
          },
          "metadata": {},
          "execution_count": 7
        }
      ]
    },
    {
      "cell_type": "markdown",
      "source": [
        "4) Logical Operators: and, or, not\n",
        "\n",
        "We can apply for all types.\n",
        "\n",
        "For boolean Types Behaviour:\n",
        "\n",
        "and -> If both arguments are True then only result is True\n",
        "\n",
        "or -> If atleast one arugemnt is True then result is True\n",
        "\n",
        "not -> Complement\n",
        "\n",
        "True and False ==> False\n",
        "\n",
        "True or False ==> True\n",
        "\n",
        "not False ==> True\n",
        "\n",
        "For non-boolean Types Behaviour:\n",
        "\n",
        "0 means False\n",
        "\n",
        "non-zero means True\n",
        "\n",
        "empty string is always treated as False\n",
        "\n",
        "x and y:\n",
        "\n",
        "If x is evaluates to false return x otherwise return y\n",
        "\n",
        "Eg:\n",
        "\n",
        "10 and 20\n",
        "\n",
        "0 and 20\n",
        "\n",
        "If first argument is zero then result is zero otherwise result is y"
      ],
      "metadata": {
        "id": "CvDG-3rCTaua"
      }
    },
    {
      "cell_type": "code",
      "source": [
        "10 and 20"
      ],
      "metadata": {
        "colab": {
          "base_uri": "https://localhost:8080/"
        },
        "id": "xsnMVXwmToP6",
        "outputId": "beaea497-b132-472c-a747-828e7e07da6c"
      },
      "execution_count": null,
      "outputs": [
        {
          "output_type": "execute_result",
          "data": {
            "text/plain": [
              "20"
            ]
          },
          "metadata": {},
          "execution_count": 8
        }
      ]
    },
    {
      "cell_type": "code",
      "source": [
        "0 and 20"
      ],
      "metadata": {
        "colab": {
          "base_uri": "https://localhost:8080/"
        },
        "id": "AaZ7sLM8UeFn",
        "outputId": "0753871d-b2a0-4c7b-c6c3-880350c843cc"
      },
      "execution_count": null,
      "outputs": [
        {
          "output_type": "execute_result",
          "data": {
            "text/plain": [
              "0"
            ]
          },
          "metadata": {},
          "execution_count": 9
        }
      ]
    },
    {
      "cell_type": "code",
      "source": [
        "#x or y:\n",
        "#If x evaluates to True then result is x otherwise result is y\n",
        "print(10 or 20) # 10\n",
        "0 or 20 # 20"
      ],
      "metadata": {
        "colab": {
          "base_uri": "https://localhost:8080/"
        },
        "id": "ww__nJIOUglP",
        "outputId": "cf36a833-1830-4efe-ecb2-d615b3a6d608"
      },
      "execution_count": null,
      "outputs": [
        {
          "output_type": "stream",
          "name": "stdout",
          "text": [
            "10\n"
          ]
        },
        {
          "output_type": "execute_result",
          "data": {
            "text/plain": [
              "20"
            ]
          },
          "metadata": {},
          "execution_count": 10
        }
      ]
    },
    {
      "cell_type": "code",
      "source": [
        "#not x:\n",
        "#If x is evalutates to False then result is True otherwise False\n",
        "print(not 10) # False\n",
        "not 0 # True"
      ],
      "metadata": {
        "colab": {
          "base_uri": "https://localhost:8080/"
        },
        "id": "PjKwyUC7U5Y8",
        "outputId": "88ddad5d-d9dc-4fb3-e959-070b486cfed6"
      },
      "execution_count": null,
      "outputs": [
        {
          "output_type": "stream",
          "name": "stdout",
          "text": [
            "False\n"
          ]
        },
        {
          "output_type": "execute_result",
          "data": {
            "text/plain": [
              "True"
            ]
          },
          "metadata": {},
          "execution_count": 11
        }
      ]
    },
    {
      "cell_type": "markdown",
      "source": [
        "### Self Study: Bitwise and Shift Operators\n",
        "\n",
        "5) Bitwise Operators:\n",
        "\n",
        "֍ We can apply these operators bitwise.\n",
        "\n",
        "֍ These operators are applicable only for int and boolean types.\n",
        "\n",
        "֍ By mistake if we are trying to apply for any other type then we will get Error.\n",
        "\n",
        "֍ &, |, ^, ~, <<, >>\n",
        "\n",
        "֍ print(4&5) # Valid\n",
        "\n",
        "֍ print(10.5 & 5.6)\n",
        "\n",
        "TypeError: unsupported operand type(s) for &: 'float' and 'float'\n",
        "\n",
        "֍ print(True & True) # Valid\n",
        "\n",
        "֍ & -> If both bits are 1 then only result is 1 otherwise result is 0\n",
        "\n",
        "֍ | -> If atleast one bit is 1 then result is 1 otherwise result is 0\n",
        "\n",
        "֍ ^ -> If bits are different then only result is 1 otherwise result is 0\n",
        "\n",
        "֍ ~ -> bitwise complement operator\n",
        "\n",
        "֍ 1 -> 0 & 0 -> 1\n",
        "\n",
        "֍ << -> Bitwise Left Shift\n",
        "\n",
        "֍ >> -> Bitwise Right Shift\n",
        "\n",
        "֍ print(4&5) -> 4\n",
        "\n",
        "֍ print(4|5) -> 5\n",
        "\n",
        "֍ print(4^5) -> 1"
      ],
      "metadata": {
        "id": "lBJOliBWVokp"
      }
    },
    {
      "cell_type": "markdown",
      "source": [
        "![image.png](data:image/png;base64,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)"
      ],
      "metadata": {
        "id": "hUGwFY5LWa5u"
      }
    },
    {
      "cell_type": "markdown",
      "source": [
        "Bitwise Complement Operator (~):\n",
        "\n",
        "We have to apply complement for total bits.\n",
        "\n",
        "Eg: print(~5)-> -6\n",
        "\n",
        "Note:\n",
        "\n",
        "֍ The most significant bit acts as sign bit. 0 value represents +ve number where as 1 represents -ve value.\n",
        "\n",
        "֍ Positive numbers will be repesented directly in the memory where as -ve numbers will\n",
        "be represented indirectly in 2's complement form."
      ],
      "metadata": {
        "id": "RwVVK2KQWfXx"
      }
    },
    {
      "cell_type": "markdown",
      "source": [
        "6) Shift Operators:\n",
        "\n",
        "<< Left Shift Operator\n",
        "\n",
        "After shifting the empty cells we have to fill with zero\n",
        "\n",
        "print(10<<2) -> 40"
      ],
      "metadata": {
        "id": "JnkrDzbJWuIg"
      }
    },
    {
      "cell_type": "markdown",
      "source": [
        "![image.png](data:image/png;base64,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)"
      ],
      "metadata": {
        "id": "28iRewEOW4Lf"
      }
    },
    {
      "cell_type": "markdown",
      "source": [
        "### >> Right Shift Operator\n",
        "\n",
        "After shifting the empty cells we have to fill with sign bit.( 0 for +ve and 1 for -ve)\n",
        "\n",
        "print(10>>2) -> 2"
      ],
      "metadata": {
        "id": "zx_qNo_mXISe"
      }
    },
    {
      "cell_type": "markdown",
      "source": [
        "![image.png](data:image/png;base64,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)"
      ],
      "metadata": {
        "id": "WaKGxxUuXS6d"
      }
    },
    {
      "cell_type": "markdown",
      "source": [
        "We can apply bitwise operators for boolean types also\n",
        "\n",
        "֍ print(True & False) # False\n",
        "\n",
        "֍ print(True | False) # True\n",
        "\n",
        "֍ print(True ^ False) # True\n",
        "\n",
        "֍ print(~True) # -2\n",
        "\n",
        "֍ print(True<<2) # 4\n",
        "\n",
        "֍ print(True>>2) # 0"
      ],
      "metadata": {
        "id": "kbMyLa84Xadz"
      }
    },
    {
      "cell_type": "code",
      "source": [
        "# Complement Operator\n",
        "~20 #Formula ~= -x-1"
      ],
      "metadata": {
        "colab": {
          "base_uri": "https://localhost:8080/"
        },
        "id": "eNmIS8RCE4eA",
        "outputId": "3d83a68a-e7d2-48a7-f3cd-48237a9b6a1e"
      },
      "execution_count": null,
      "outputs": [
        {
          "output_type": "execute_result",
          "data": {
            "text/plain": [
              "-21"
            ]
          },
          "metadata": {},
          "execution_count": 1
        }
      ]
    },
    {
      "cell_type": "code",
      "source": [
        "# Left Shift\n",
        "a=20\n",
        "a<<2 # left shift by 2 bytes\n",
        "\n",
        "'''Steps:\n",
        "Binary representation of 20 = 0001 0100\n",
        "Left shift by 2 bytes will remove first two zero.\n",
        "It will become 0101 0000 (we are adding two zero at the right side)\n",
        "From left to right --> 2**0,2**1, 2**2, 2**3, 2**4, 2**5, 2**6, 2**7\n",
        "2**4 +2**6 =80'''"
      ],
      "metadata": {
        "colab": {
          "base_uri": "https://localhost:8080/"
        },
        "id": "yzPbstCDFKdK",
        "outputId": "902a6424-ede7-4be5-e8c9-5ec96c58a6cf"
      },
      "execution_count": null,
      "outputs": [
        {
          "output_type": "execute_result",
          "data": {
            "text/plain": [
              "80"
            ]
          },
          "metadata": {},
          "execution_count": 2
        }
      ]
    },
    {
      "cell_type": "code",
      "source": [
        "a=20 # 0001 0100 #two zeros at right end got discarded --> 0000 0101\n",
        "a>>2"
      ],
      "metadata": {
        "colab": {
          "base_uri": "https://localhost:8080/"
        },
        "id": "NQxDVulo_BEE",
        "outputId": "03064bc6-8e80-4656-816b-feff2e7fc2e9"
      },
      "execution_count": null,
      "outputs": [
        {
          "output_type": "execute_result",
          "data": {
            "text/plain": [
              "5"
            ]
          },
          "metadata": {},
          "execution_count": 1
        }
      ]
    },
    {
      "cell_type": "code",
      "source": [
        "# Bitwise \"and\" operator\n",
        "a=20\n",
        "b= 4\n",
        "a&b"
      ],
      "metadata": {
        "colab": {
          "base_uri": "https://localhost:8080/"
        },
        "id": "hxoE_msbCZ9S",
        "outputId": "ccd64303-31ee-492e-b454-8e99a8097957"
      },
      "execution_count": null,
      "outputs": [
        {
          "output_type": "execute_result",
          "data": {
            "text/plain": [
              "4"
            ]
          },
          "metadata": {},
          "execution_count": 2
        }
      ]
    },
    {
      "cell_type": "code",
      "source": [
        "# bitwise or operator\n",
        "a=20 \n",
        "b=4\n",
        "a|b"
      ],
      "metadata": {
        "colab": {
          "base_uri": "https://localhost:8080/"
        },
        "id": "XY293NLZCkhV",
        "outputId": "4b24aafb-0013-46fd-865a-ff0e21c1ad7a"
      },
      "execution_count": null,
      "outputs": [
        {
          "output_type": "execute_result",
          "data": {
            "text/plain": [
              "20"
            ]
          },
          "metadata": {},
          "execution_count": 3
        }
      ]
    },
    {
      "cell_type": "code",
      "source": [
        "# bitwise XOR \"^\" Operator\n",
        "a=20\n",
        "b= 4\n",
        "a^b"
      ],
      "metadata": {
        "colab": {
          "base_uri": "https://localhost:8080/"
        },
        "id": "k99NWDWbCkoD",
        "outputId": "989e7fb9-72a5-47c4-a9d7-da621021f1f4"
      },
      "execution_count": null,
      "outputs": [
        {
          "output_type": "execute_result",
          "data": {
            "text/plain": [
              "16"
            ]
          },
          "metadata": {},
          "execution_count": 4
        }
      ]
    },
    {
      "cell_type": "markdown",
      "source": [
        "7) Assignment Operators:\n",
        "\n",
        "֍ We can use assignment operator to assign value to the variable.\n",
        " Eg: x = 10\n",
        "\n",
        "֍ We can combine asignment operator with some other operator to form compound\n",
        "assignment operator.\n",
        "\n",
        " Eg: x += 10 -> x = x+10\n",
        "\n",
        "The following is the list of all possible compound assignment operators in Python.\n",
        "\n",
        " +=\n",
        "\n",
        " -=\n",
        "\n",
        " *=\n",
        "\n",
        " /=\n",
        "\n",
        " %=\n",
        "\n",
        " //=\n",
        "\n",
        " **=\n",
        "\n",
        " &=\n",
        "\n",
        " |=\n",
        "\n",
        " ^=\n",
        "\n",
        " >>=\n",
        "\n",
        " <<="
      ],
      "metadata": {
        "id": "gETMrL3CXZKC"
      }
    },
    {
      "cell_type": "code",
      "source": [
        "x=10\n",
        "x+=20\n",
        "print(x) # 30 "
      ],
      "metadata": {
        "colab": {
          "base_uri": "https://localhost:8080/"
        },
        "id": "J3K6AT1uVDc5",
        "outputId": "d3ae4b91-f808-463b-b939-e3bc687447bb"
      },
      "execution_count": null,
      "outputs": [
        {
          "output_type": "stream",
          "name": "stdout",
          "text": [
            "30\n"
          ]
        }
      ]
    },
    {
      "cell_type": "markdown",
      "source": [
        "8) Ternary Operator OR Conditional Operator\n",
        "\n",
        "Syntax: x = firstValue if condition else secondValue\n",
        "\n",
        "If condition is True then firstValue will be considered else secondValue will be considered."
      ],
      "metadata": {
        "id": "RyFCP172YGl5"
      }
    },
    {
      "cell_type": "code",
      "source": [
        "# Eg 1:\n",
        "\n",
        "a,b=10,20\n",
        "\n",
        "x=30 if a<b else 40\n",
        "print(x) #30 "
      ],
      "metadata": {
        "colab": {
          "base_uri": "https://localhost:8080/"
        },
        "id": "XIPVNmYMX3ii",
        "outputId": "76b10c96-5cac-49f3-bb22-a35a579c068b"
      },
      "execution_count": null,
      "outputs": [
        {
          "output_type": "stream",
          "name": "stdout",
          "text": [
            "30\n"
          ]
        }
      ]
    },
    {
      "cell_type": "code",
      "source": [
        "# Program for Minimum of 3 Numbers\n",
        "a=int(input(\"Enter First Number:\"))\n",
        "b=int(input(\"Enter Second Number:\"))\n",
        "c=int(input(\"Enter Third Number:\"))\n",
        "min=a if a<b and a<c else b if b<c else c\n",
        "print(\"Minimum Value:\",min) "
      ],
      "metadata": {
        "colab": {
          "base_uri": "https://localhost:8080/"
        },
        "id": "amlgtaNGYRDD",
        "outputId": "9c16e77d-1279-4ce7-efb2-378ad314e2e4"
      },
      "execution_count": null,
      "outputs": [
        {
          "output_type": "stream",
          "name": "stdout",
          "text": [
            "Enter First Number:20\n",
            "Enter Second Number:10\n",
            "Enter Third Number:5\n",
            "Minimum Value: 5\n"
          ]
        }
      ]
    },
    {
      "cell_type": "markdown",
      "source": [
        "# Homework: Write the program for Maximum Of Three Numbers"
      ],
      "metadata": {
        "id": "AKfJlBgoY3ad"
      }
    },
    {
      "cell_type": "markdown",
      "source": [
        "Identity Operators\n",
        "\n",
        " We can use identity operators for address comparison.\n",
        "\n",
        " There are 2 identity operators are available\n",
        "\n",
        "1) is\n",
        "\n",
        "2) is not\n",
        "\n",
        " r1 is r2 returns True if both r1 and r2 are pointing to the same object.\n",
        "\n",
        " r1 is not r2 returns True if both r1 and r2 are not pointing to the same object."
      ],
      "metadata": {
        "id": "4jJWyFhhZnTy"
      }
    },
    {
      "cell_type": "code",
      "source": [
        "# Eg:\n",
        "a=10\n",
        "b=10\n",
        "print(a is b) # True "
      ],
      "metadata": {
        "colab": {
          "base_uri": "https://localhost:8080/"
        },
        "id": "_mOOr-9zYgdh",
        "outputId": "7cac5fd6-f317-48c7-c4ad-be1dfb7d4841"
      },
      "execution_count": null,
      "outputs": [
        {
          "output_type": "stream",
          "name": "stdout",
          "text": [
            "True\n"
          ]
        }
      ]
    },
    {
      "cell_type": "markdown",
      "source": [
        "2)Membership Operators:\n",
        "\n",
        " We can use Membership operators to check whether the given object present in the\n",
        "given collection. (It may be String, List, Set, Tuple OR Dict)\n",
        "\n",
        " In -> Returns True if the given object present in the specified Collection\n",
        "\n",
        " not in -> Retruns True if the given object not present in the specified Collection"
      ],
      "metadata": {
        "id": "8_x3mzH7aBuQ"
      }
    },
    {
      "cell_type": "code",
      "source": [
        "# Eg:\n",
        "x=\"hello learning Python is very easy!!!\"\n",
        "print('h' in x)# True\n",
        "print('d' in x) #False\n",
        "print('d' not in x) #True\n",
        "print('Python' in x) #True"
      ],
      "metadata": {
        "colab": {
          "base_uri": "https://localhost:8080/"
        },
        "id": "dcpGRS0FZxQu",
        "outputId": "c64e4edc-7285-4a79-87c9-e12883dba4fa"
      },
      "execution_count": null,
      "outputs": [
        {
          "output_type": "stream",
          "name": "stdout",
          "text": [
            "True\n",
            "False\n",
            "True\n",
            "True\n"
          ]
        }
      ]
    },
    {
      "cell_type": "markdown",
      "source": [
        "### Operator Precedence:\n",
        "If multiple operators present then which operator will be evaluated first is decided by\n",
        "operator precedence.\n",
        "\n",
        "BODMAS Rule: 'Brackets, Order, Division, Multiplication, Addition, Subtraction. '"
      ],
      "metadata": {
        "id": "GQZym1h9am70"
      }
    },
    {
      "cell_type": "markdown",
      "source": [
        "# Math Module\n",
        "\n",
        "Mathematical Functions (math Module)\n",
        "\n",
        "֍ A Module is collection of functions, variables and classes etc.\n",
        "\n",
        "֍ math is a module that contains several functions to perform mathematical operations.\n",
        "\n",
        "֍ If we want to use any module in Python, first we have to import that module.\n",
        "import math\n",
        "\n",
        "֍ Once we import a module then we can call any function of that module.\n",
        "\n",
        "1) import math\n",
        "\n",
        "2) print(math.sqrt(16))\n",
        "\n",
        "3) print(math.pi)"
      ],
      "metadata": {
        "id": "wKbmM_E8bkZf"
      }
    },
    {
      "cell_type": "code",
      "source": [
        "import math\n",
        "math.sqrt(16)"
      ],
      "metadata": {
        "colab": {
          "base_uri": "https://localhost:8080/"
        },
        "id": "aubE3gIsaUH6",
        "outputId": "c8c1ec20-122e-4cef-d587-3517db747b3a"
      },
      "execution_count": null,
      "outputs": [
        {
          "output_type": "execute_result",
          "data": {
            "text/plain": [
              "4.0"
            ]
          },
          "metadata": {},
          "execution_count": 19
        }
      ]
    },
    {
      "cell_type": "code",
      "source": [
        "# Other important functions in math module\n",
        "from math import ceil, floor, factorial, trunc, gcd, sin,cos,tan\n",
        "\n",
        "print(ceil(10.55))\n",
        "print(floor(10.55))\n",
        "print(pow(10,20))\n",
        "print(factorial(5))\n",
        "print(trunc(10.55))\n",
        "print(gcd(10,20))\n",
        "print(sin(10))\n",
        "print(cos(10))\n",
        "print(tan(10))"
      ],
      "metadata": {
        "colab": {
          "base_uri": "https://localhost:8080/"
        },
        "id": "jnMvgCNpbuit",
        "outputId": "9f3409e6-78d3-4abc-b0bf-4d72133623e6"
      },
      "execution_count": null,
      "outputs": [
        {
          "output_type": "stream",
          "name": "stdout",
          "text": [
            "11\n",
            "10\n",
            "100000000000000000000\n",
            "120\n",
            "10\n",
            "10\n",
            "-0.5440211108893698\n",
            "-0.8390715290764524\n",
            "0.6483608274590866\n"
          ]
        }
      ]
    },
    {
      "cell_type": "code",
      "source": [
        "# Important variables\n",
        "'''pi = 3.14\n",
        "   inf = infinity\n",
        "   nan = not a number'''"
      ],
      "metadata": {
        "id": "7Jb6K5kNcV6C"
      },
      "execution_count": null,
      "outputs": []
    },
    {
      "cell_type": "markdown",
      "source": [
        "## Homework: Q) Write a Python Program to find Area of Circle"
      ],
      "metadata": {
        "id": "kV84FXTxdZF7"
      }
    },
    {
      "cell_type": "markdown",
      "source": [
        "eval():\n",
        "\n",
        "eval Function take a String and evaluate the Result.\n",
        "\n",
        "Eg: x = eval(“10+20+30”)\n",
        "\n",
        "print(x)"
      ],
      "metadata": {
        "id": "DRD4FeVAWc7c"
      }
    },
    {
      "cell_type": "code",
      "source": [
        "x = eval(\"10+20+30\")\n",
        "print(x)"
      ],
      "metadata": {
        "colab": {
          "base_uri": "https://localhost:8080/"
        },
        "id": "hUmBhBBBda2U",
        "outputId": "dae565da-ba3f-47a5-cf23-7bdb1126db90"
      },
      "execution_count": null,
      "outputs": [
        {
          "output_type": "stream",
          "name": "stdout",
          "text": [
            "60\n"
          ]
        }
      ]
    },
    {
      "cell_type": "markdown",
      "source": [
        "# **Output Statements:**\n",
        "\n",
        "We can use print() function to display output.\n"
      ],
      "metadata": {
        "id": "xIh7xhuCYnOF"
      }
    },
    {
      "cell_type": "code",
      "source": [
        "#We can use escape characters\n",
        "print(\"Hello \\n World\") "
      ],
      "metadata": {
        "colab": {
          "base_uri": "https://localhost:8080/"
        },
        "id": "FSZjl69MWkiK",
        "outputId": "95bea638-547c-45dc-ae85-989889bf55cc"
      },
      "execution_count": null,
      "outputs": [
        {
          "output_type": "stream",
          "name": "stdout",
          "text": [
            "Hello \n",
            " World\n"
          ]
        }
      ]
    },
    {
      "cell_type": "code",
      "source": [
        "#print with variable number of arguments\n",
        "a,b,c=10,20,30\n",
        "print(\"The Values are :\",a,b,c) "
      ],
      "metadata": {
        "colab": {
          "base_uri": "https://localhost:8080/"
        },
        "id": "Q3Wrgta_Y3jT",
        "outputId": "a6acea64-c96a-45bf-d75f-c54dc7d88117"
      },
      "execution_count": null,
      "outputs": [
        {
          "output_type": "stream",
          "name": "stdout",
          "text": [
            "The Values are : 10 20 30\n"
          ]
        }
      ]
    },
    {
      "cell_type": "code",
      "source": [
        "# By default output values are seperated by space.If we want we can specify seperator by using \"sep\" attribute\n",
        "a,b,c=10,20,30\n",
        "print(a,b,c,sep=',') "
      ],
      "metadata": {
        "colab": {
          "base_uri": "https://localhost:8080/"
        },
        "id": "grmdI11KZGl5",
        "outputId": "7f6363da-95de-410a-d249-4fd7fa620ec4"
      },
      "execution_count": null,
      "outputs": [
        {
          "output_type": "stream",
          "name": "stdout",
          "text": [
            "10,20,30\n"
          ]
        }
      ]
    },
    {
      "cell_type": "code",
      "source": [
        "# If we want output in the same line with space\n",
        "print(\"Hello\",end=' ')\n",
        "print(\"World\",end=' ')\n",
        "print(\"Welcome\") "
      ],
      "metadata": {
        "colab": {
          "base_uri": "https://localhost:8080/"
        },
        "id": "favHPP74ZRQV",
        "outputId": "5877b9ec-b714-4ab4-ab0c-3ff17baaaa8f"
      },
      "execution_count": null,
      "outputs": [
        {
          "output_type": "stream",
          "name": "stdout",
          "text": [
            "Hello World Welcome\n"
          ]
        }
      ]
    },
    {
      "cell_type": "code",
      "source": [
        "'''1) %i == int\n",
        "   2) %d == int\n",
        "   3) %f == float\n",
        "   4) %s == String type'''\n",
        "\n",
        "a=10\n",
        "b=20\n",
        "c=30\n",
        "print(\"a value is %i\" %a)\n",
        "print(\"b value is %d and c value is %d\" %(b,c))"
      ],
      "metadata": {
        "colab": {
          "base_uri": "https://localhost:8080/"
        },
        "id": "bcpSRfHbZmkl",
        "outputId": "14b9372f-f6f4-4245-aa54-895cbab036fa"
      },
      "execution_count": null,
      "outputs": [
        {
          "output_type": "stream",
          "name": "stdout",
          "text": [
            "a value is 10\n",
            "b value is 20 and c value is 30\n"
          ]
        }
      ]
    },
    {
      "cell_type": "code",
      "source": [
        "s=\"Students\"\n",
        "list1=[10,20,30,40]\n",
        "print(\"Hello %s,The List of Items are %s\" %(s,list1)) "
      ],
      "metadata": {
        "colab": {
          "base_uri": "https://localhost:8080/"
        },
        "id": "syTvuPrTaFC1",
        "outputId": "40f4c6af-9633-41c5-ba57-1732bb77c02d"
      },
      "execution_count": null,
      "outputs": [
        {
          "output_type": "stream",
          "name": "stdout",
          "text": [
            "Hello Students,The List of Items are [10, 20, 30, 40]\n"
          ]
        }
      ]
    },
    {
      "cell_type": "code",
      "source": [],
      "metadata": {
        "id": "za3VHw9bxfO4"
      },
      "execution_count": null,
      "outputs": []
    }
  ]
}